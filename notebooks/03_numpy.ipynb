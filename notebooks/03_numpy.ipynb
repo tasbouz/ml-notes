{
 "cells": [
  {
   "cell_type": "markdown",
   "metadata": {},
   "source": [
    "<center><img src=\"../img/numpy.png\" alt=\"drawing\" width=\"150\"/></center>"
   ]
  },
  {
   "cell_type": "markdown",
   "metadata": {},
   "source": [
    "# NumPy\n",
    "\n",
    "NumPy, standing from **Num**erical **Py**thon, is a library for the Python programming language, adding support for large, multi-dimensional arrays and matrices, along with a large collection of high-level mathematical functions from the domain of linear algebra, fourier transform, and matrices to operate on these arrays. \n",
    "\n",
    "The ancestor of NumPy, Numeric, was originally created by Jim Hugunin with contributions from several other developers. In 2005, Travis Oliphant created NumPy by incorporating features of the competing Numarray into Numeric, with extensive modifications. NumPy is open-source software and has many contributors.\n",
    "\n",
    "So, why use NumPy? In Python we have lists that serve the purpose of arrays, but they are slow to process. NumPy aims to provide an array object that is up to 50x faster than traditional Python lists. The array object in NumPy is called ndarray and it provides a lot of supporting functions that make working with ndarray very easy. NumPy arrays are stored at one continuous place in memory unlike lists, so processes can access and manipulate them very efficiently. This behavior is called locality of reference in computer science. Also they are optimized to work with latest CPU architectures.\n",
    "\n",
    "NumPy as a Python library is written partially in Python, but most of the parts that require fast computation are written in C or C++. The source code for NumPy is located at [this github repository](https://github.com/numpy/numpy)."
   ]
  },
  {
   "cell_type": "code",
   "execution_count": 4,
   "metadata": {},
   "outputs": [],
   "source": [
    "import numpy as np"
   ]
  },
  {
   "cell_type": "markdown",
   "metadata": {},
   "source": [
    "## NumPy Arrays\n",
    "\n",
    "NumPy is used to work with arrays. The array object in NumPy is called ndarray. We can create a NumPy ndarray object by using the `array()` function. To create an ndarray, we can pass a list, tuple or any array-like object into the `array()` method, and it will be converted into an ndarray.\n",
    "\n",
    "A dimension in arrays is one level of array depth in nested arrays (arrays that have arrays as their elements).\n",
    "\n",
    "* **0-D Arrays**: 0-D arrays, or Scalars, are the elements in an array. Each value in an array is a 0-D array.\n",
    "* **1-D Arrays**: An array that has 0-D arrays as its elements is called vector or 1-D array. These are the most common and basic arrays.\n",
    "* **2-D Arrays**: An array that has 1-D arrays as its elements is called matrix, or 2nd order tensor, or 2-D array.\n",
    "* **3-D Arrays**: An array that has 2-D arrays as its elements is called 3rd order tensor, or 3-D array.\n",
    "\n",
    "\n",
    "\n"
   ]
  },
  {
   "cell_type": "code",
   "execution_count": 14,
   "metadata": {},
   "outputs": [
    {
     "data": {
      "text/plain": [
       "(array(42),\n",
       " array([1, 2, 3, 4, 5]),\n",
       " array([[1, 2, 3],\n",
       "        [4, 5, 6]]),\n",
       " array([[[1, 2, 3],\n",
       "         [4, 5, 6]],\n",
       " \n",
       "        [[1, 2, 3],\n",
       "         [4, 5, 6]]]))"
      ]
     },
     "execution_count": 14,
     "metadata": {},
     "output_type": "execute_result"
    }
   ],
   "source": [
    "arr_0d = np.array(42)\n",
    "\n",
    "arr_1d = np.array([1, 2, 3,4,5])\n",
    "\n",
    "arr_2d = np.array([[1, 2, 3],\n",
    "                   [4, 5, 6]])\n",
    "\n",
    "arr_3d = np.array([[[1, 2, 3],\n",
    "                    [4, 5, 6]],\n",
    " \n",
    "                   [[1, 2, 3],\n",
    "                    [4, 5, 6]]])\n",
    "\n",
    "arr_0d, arr_1d, arr_2d, arr_3d"
   ]
  },
  {
   "cell_type": "code",
   "execution_count": 15,
   "metadata": {},
   "outputs": [
    {
     "data": {
      "text/plain": [
       "(numpy.ndarray, numpy.ndarray, numpy.ndarray, numpy.ndarray)"
      ]
     },
     "execution_count": 15,
     "metadata": {},
     "output_type": "execute_result"
    }
   ],
   "source": [
    "type(arr_0d), type(arr_1d), type(arr_2d), type(arr_3d)"
   ]
  },
  {
   "cell_type": "markdown",
   "metadata": {},
   "source": [
    "NumPy arrays provides the `ndim` attribute that returns an integer that tells us how many dimensions the array have."
   ]
  },
  {
   "cell_type": "code",
   "execution_count": 16,
   "metadata": {},
   "outputs": [
    {
     "data": {
      "text/plain": [
       "(0, 1, 2, 3)"
      ]
     },
     "execution_count": 16,
     "metadata": {},
     "output_type": "execute_result"
    }
   ],
   "source": [
    "arr_0d.ndim, arr_1d.ndim, arr_2d.ndim, arr_3d.ndim"
   ]
  },
  {
   "cell_type": "markdown",
   "metadata": {},
   "source": [
    "Of course, an array can have any number of dimensions. When the array is created, you can define the number of dimensions by using the ndmin argument."
   ]
  },
  {
   "cell_type": "code",
   "execution_count": 17,
   "metadata": {},
   "outputs": [
    {
     "data": {
      "text/plain": [
       "array([[[[[1, 2, 3, 4]]]]])"
      ]
     },
     "execution_count": 17,
     "metadata": {},
     "output_type": "execute_result"
    }
   ],
   "source": [
    "arr_5d = np.array([1, 2, 3, 4], ndmin=5)\n",
    "arr_5d"
   ]
  },
  {
   "cell_type": "markdown",
   "metadata": {},
   "source": [
    "In this array the innermost dimension (5th dim) has 4 elements, the 4th dim has 1 element that is the vector, the 3rd dim has 1 element that is the matrix with the vector, the 2nd dim has 1 element that is 3D array and 1st dim has 1 element that is a 4D array."
   ]
  },
  {
   "cell_type": "markdown",
   "metadata": {},
   "source": []
  },
  {
   "cell_type": "markdown",
   "metadata": {},
   "source": [
    "Arrays carry their own **attributes**. Among the most important ones are:\n",
    "\n",
    "* **Shape**: The length (number of elements) of each of the dimensions of an array.\n",
    "* **Type**: The data type of the elements of the array.\n",
    "* **Rank**: The number of array dimensions.\n",
    "* **Size**: The total number of items in the array."
   ]
  },
  {
   "cell_type": "markdown",
   "metadata": {},
   "source": []
  },
  {
   "cell_type": "code",
   "execution_count": 30,
   "metadata": {},
   "outputs": [
    {
     "name": "stdout",
     "output_type": "stream",
     "text": [
      "Shape: (4,)\n",
      "Type: int64\n",
      "Rank: 1\n",
      "Size: 4\n"
     ]
    }
   ],
   "source": [
    "print(\"Shape:\", array_1d.shape)\n",
    "print(\"Type:\", array_1d.dtype)\n",
    "print(\"Rank:\", array_1d.ndim)\n",
    "print(\"Size:\", array_1d.size)"
   ]
  },
  {
   "cell_type": "markdown",
   "metadata": {},
   "source": [
    "Arrays are **indexed** just like Python lists."
   ]
  },
  {
   "cell_type": "code",
   "execution_count": 31,
   "metadata": {},
   "outputs": [
    {
     "data": {
      "text/plain": [
       "array([6., 7.])"
      ]
     },
     "execution_count": 31,
     "metadata": {},
     "output_type": "execute_result"
    }
   ],
   "source": [
    "array_2d[1][1:3]                                                                                       "
   ]
  },
  {
   "cell_type": "markdown",
   "metadata": {},
   "source": [
    "Numpy also accepts **changing the elements of an array** directly through indexing."
   ]
  },
  {
   "cell_type": "code",
   "execution_count": 32,
   "metadata": {},
   "outputs": [],
   "source": [
    "array_2d[1][2] = 5  "
   ]
  },
  {
   "cell_type": "markdown",
   "metadata": {},
   "source": [
    "Additionaly one can also use **conditional indexing**."
   ]
  },
  {
   "cell_type": "code",
   "execution_count": 37,
   "metadata": {},
   "outputs": [
    {
     "data": {
      "text/plain": [
       "array([3., 4., 5., 6., 5., 8.])"
      ]
     },
     "execution_count": 37,
     "metadata": {},
     "output_type": "execute_result"
    }
   ],
   "source": [
    "array_2d[array_2d>2]                                                                                 "
   ]
  },
  {
   "cell_type": "markdown",
   "metadata": {},
   "source": [
    "Or to obtain the **indices** of the conditiona selection:"
   ]
  },
  {
   "cell_type": "code",
   "execution_count": 39,
   "metadata": {},
   "outputs": [
    {
     "data": {
      "text/plain": [
       "(array([0, 0, 1, 1, 1, 1]), array([2, 3, 0, 1, 2, 3]))"
      ]
     },
     "execution_count": 39,
     "metadata": {},
     "output_type": "execute_result"
    }
   ],
   "source": [
    "np.where(array_2d>2)   "
   ]
  },
  {
   "cell_type": "markdown",
   "metadata": {},
   "source": [
    "There are some **other ways to create arrays**."
   ]
  },
  {
   "cell_type": "code",
   "execution_count": 17,
   "metadata": {},
   "outputs": [
    {
     "data": {
      "text/plain": [
       "(array([[0., 0., 0.],\n",
       "        [0., 0., 0.]]),\n",
       " array([[1., 1.],\n",
       "        [1., 1.],\n",
       "        [1., 1.]]))"
      ]
     },
     "execution_count": 17,
     "metadata": {},
     "output_type": "execute_result"
    }
   ],
   "source": [
    "# an array of given dimensions full with 0's and 1's!\n",
    "zeros = np.zeros((2,3))   \n",
    "ones = np.ones((3,2))\n",
    "zeros, ones"
   ]
  },
  {
   "cell_type": "code",
   "execution_count": 21,
   "metadata": {},
   "outputs": [
    {
     "data": {
      "text/plain": [
       "(array([[7, 7, 7],\n",
       "        [7, 7, 7]]),\n",
       " array([[10, 10],\n",
       "        [10, 10],\n",
       "        [10, 10]]))"
      ]
     },
     "execution_count": 21,
     "metadata": {},
     "output_type": "execute_result"
    }
   ],
   "source": [
    "# general form\n",
    "sevens = np.full(shape = (2, 3), fill_value = 7)\n",
    "tens = np.full(shape = (3, 2), fill_value = 10)\n",
    "sevens, tens"
   ]
  },
  {
   "cell_type": "markdown",
   "metadata": {},
   "source": [
    "**Random arrays** are arrays of some abitrary size which contain random numbers."
   ]
  },
  {
   "cell_type": "code",
   "execution_count": 46,
   "metadata": {},
   "outputs": [],
   "source": [
    "# set specific seed for reproducibility\n",
    "np.random.seed(42)"
   ]
  },
  {
   "cell_type": "code",
   "execution_count": 47,
   "metadata": {
    "tags": []
   },
   "outputs": [
    {
     "data": {
      "text/plain": [
       "(49.2, 996.8599999999999, 31.573089807619397, 52.5, 52.5, 91)"
      ]
     },
     "execution_count": 47,
     "metadata": {},
     "output_type": "execute_result"
    }
   ],
   "source": [
    "# generate 20 random integers < 100\n",
    "X = np.random.randint(1, 100, size=20)\n",
    "Y = np.random.randint(1, 100, size=20)  \n",
    "\n",
    "# basic statistics\n",
    "np.mean(X), np.var(X), np.std(X), np.median(X), np.percentile(X, q=50), np.ptp(X)"
   ]
  },
  {
   "cell_type": "markdown",
   "metadata": {},
   "source": [
    "Once can compute **covariance** and **correlation** between two arrays."
   ]
  },
  {
   "cell_type": "code",
   "execution_count": 48,
   "metadata": {
    "tags": []
   },
   "outputs": [
    {
     "data": {
      "text/plain": [
       "array([[1049.32631579,  133.11578947],\n",
       "       [ 133.11578947,  510.06315789]])"
      ]
     },
     "execution_count": 48,
     "metadata": {},
     "output_type": "execute_result"
    }
   ],
   "source": [
    "# covariance matrix\n",
    "np.cov(X,Y)"
   ]
  },
  {
   "cell_type": "code",
   "execution_count": 49,
   "metadata": {
    "tags": []
   },
   "outputs": [
    {
     "data": {
      "text/plain": [
       "array([[1.       , 0.1819543],\n",
       "       [0.1819543, 1.       ]])"
      ]
     },
     "execution_count": 49,
     "metadata": {},
     "output_type": "execute_result"
    }
   ],
   "source": [
    "# correlation matrix\n",
    "np.corrcoef(X, Y)"
   ]
  },
  {
   "cell_type": "markdown",
   "metadata": {},
   "source": [
    "Basic **mathematical operations** can be performed withe usual mathematical symbols, or in a more nympy way like following. \n",
    "\n"
   ]
  },
  {
   "cell_type": "code",
   "execution_count": 51,
   "metadata": {},
   "outputs": [
    {
     "data": {
      "text/plain": [
       "(array([[5, 8]]),\n",
       " array([[ 6, 12]]),\n",
       " array([[18]]),\n",
       " array([[1.5, 3. ]]),\n",
       " array([[ 9, 36]]))"
      ]
     },
     "execution_count": 51,
     "metadata": {},
     "output_type": "execute_result"
    }
   ],
   "source": [
    "a = np.array([[3, 6]])\n",
    "b = np.array([[2, 2]])\n",
    "\n",
    "# element wise addition\n",
    "addition = np.add(a,b)\n",
    "\n",
    "# element wise multiplication\n",
    "multiplication = np.multiply(a,b)\n",
    "\n",
    "# matrix multiplication (reshaping needed)\n",
    "matrix_multiplication = np.matmul(np.reshape(a, [1, 2]), np.reshape(b, [2, 1]))\n",
    "\n",
    "# element wise division\n",
    "division = np.divide(a, b)\n",
    "\n",
    "# element wise rise to power\n",
    "power = np.power(a,b)\n",
    "\n",
    "addition, multiplication, matrix_multiplication, division, power"
   ]
  },
  {
   "cell_type": "markdown",
   "metadata": {},
   "source": [
    "Some more basic operation functions."
   ]
  },
  {
   "cell_type": "code",
   "execution_count": 53,
   "metadata": {},
   "outputs": [
    {
     "data": {
      "text/plain": [
       "(array([ 1,  4,  9, 16]),\n",
       " array([1.        , 1.41421356, 1.73205081, 2.        ]),\n",
       " array([1, 2, 3, 4]),\n",
       " 1,\n",
       " 0,\n",
       " 4,\n",
       " 3)"
      ]
     },
     "execution_count": 53,
     "metadata": {},
     "output_type": "execute_result"
    }
   ],
   "source": [
    "# square\n",
    "square = np.square(array_1d)\n",
    "\n",
    "# square root\n",
    "sqrt = np.sqrt(array_1d)\n",
    "\n",
    "# absolute values\n",
    "absolute_value = np.abs(array_1d)\n",
    "\n",
    "# find the minimum\n",
    "reduce_min = np.min(array_1d)\n",
    "\n",
    "# find the minimum element position\n",
    "argmin = np.argmin(array_1d)\n",
    "\n",
    "# find the maximum\n",
    "reduce_max = np.max(array_1d)\n",
    "\n",
    "# find the maximum element position\n",
    "argmax = np.argmax(array_1d)\n",
    "\n",
    "square, sqrt, absolute_value, reduce_min, argmin, reduce_max, argmax"
   ]
  },
  {
   "cell_type": "markdown",
   "metadata": {},
   "source": [
    "### Pandas\n",
    "\n",
    "**Pandas** is a free software library written for the Python programming language for data manipulation and analysis. In particular, it offers data structures and operations for manipulating numerical tables and time series. The name is derived from the term \"panel data\", an econometrics term for data sets that include observations over multiple time periods for the same individuals. Its name is a play on the phrase \"Python data analysis\" itself."
   ]
  },
  {
   "cell_type": "markdown",
   "metadata": {},
   "source": [
    "#### Pandas Series\n",
    "\n",
    "A **Pandas Series** is like a column in a table. It is a one-dimensional array holding data of any type."
   ]
  },
  {
   "cell_type": "code",
   "execution_count": null,
   "metadata": {},
   "outputs": [],
   "source": [
    "import pandas as pd"
   ]
  },
  {
   "cell_type": "code",
   "execution_count": 57,
   "metadata": {
    "tags": []
   },
   "outputs": [
    {
     "data": {
      "text/plain": [
       "0      34\n",
       "1    john\n",
       "2     doe\n",
       "dtype: object"
      ]
     },
     "execution_count": 57,
     "metadata": {},
     "output_type": "execute_result"
    }
   ],
   "source": [
    "s1 = pd.Series([34,'john','doe'])\n",
    "s1"
   ]
  },
  {
   "cell_type": "code",
   "execution_count": 59,
   "metadata": {},
   "outputs": [
    {
     "data": {
      "text/plain": [
       "age          34\n",
       "name       john\n",
       "surname     joe\n",
       "dtype: object"
      ]
     },
     "execution_count": 59,
     "metadata": {},
     "output_type": "execute_result"
    }
   ],
   "source": [
    "# or including labels\n",
    "s2 = pd.Series({\n",
    "    'age':34, \n",
    "    'name':'john',\n",
    "    'surname':'joe'\n",
    "}) \n",
    "s2"
   ]
  },
  {
   "cell_type": "markdown",
   "metadata": {},
   "source": [
    "#### Dataframes\n",
    "\n",
    "A **Pandas DataFrame** is a 2 dimensional data structure, like a 2 dimensional array, or a table with rows and columns. In essense a dataframe is a collection of series."
   ]
  },
  {
   "cell_type": "code",
   "execution_count": 60,
   "metadata": {},
   "outputs": [
    {
     "data": {
      "text/html": [
       "<div>\n",
       "<style scoped>\n",
       "    .dataframe tbody tr th:only-of-type {\n",
       "        vertical-align: middle;\n",
       "    }\n",
       "\n",
       "    .dataframe tbody tr th {\n",
       "        vertical-align: top;\n",
       "    }\n",
       "\n",
       "    .dataframe thead th {\n",
       "        text-align: right;\n",
       "    }\n",
       "</style>\n",
       "<table border=\"1\" class=\"dataframe\">\n",
       "  <thead>\n",
       "    <tr style=\"text-align: right;\">\n",
       "      <th></th>\n",
       "      <th>age</th>\n",
       "      <th>name</th>\n",
       "      <th>surname</th>\n",
       "    </tr>\n",
       "  </thead>\n",
       "  <tbody>\n",
       "    <tr>\n",
       "      <th>0</th>\n",
       "      <td>34</td>\n",
       "      <td>john</td>\n",
       "      <td>doe</td>\n",
       "    </tr>\n",
       "    <tr>\n",
       "      <th>1</th>\n",
       "      <td>43</td>\n",
       "      <td>alice</td>\n",
       "      <td>cooper</td>\n",
       "    </tr>\n",
       "  </tbody>\n",
       "</table>\n",
       "</div>"
      ],
      "text/plain": [
       "   age   name surname\n",
       "0   34   john     doe\n",
       "1   43  alice  cooper"
      ]
     },
     "execution_count": 60,
     "metadata": {},
     "output_type": "execute_result"
    }
   ],
   "source": [
    "# Dataframe: Every dictionary a new row. Each key of dictionary a column\n",
    "df = pd.DataFrame([\n",
    "    {'age':34, 'name':'john', 'surname':'doe'},         \n",
    "    {'age':43, 'name':'alice', 'surname':'cooper'}\n",
    "])                        \n",
    "df"
   ]
  },
  {
   "cell_type": "markdown",
   "metadata": {},
   "source": [
    "More often than not, one loads a dataframe instead of creating it."
   ]
  },
  {
   "cell_type": "code",
   "execution_count": null,
   "metadata": {
    "tags": []
   },
   "outputs": [],
   "source": [
    "# load data as Datafrane\n",
    "df = pd.read_table('path_to_csv',                                 \n",
    "                   sep = ',', # defines the seperator. Default of read_table: tabs\n",
    "                   header = None, # if there is a header or not.   \n",
    "                   usecols = [0,4], # specific columns to read. Works also with name of the columns\n",
    "                   names = ['col1','col2'], # names of the columns. MUST USE header = 0 for this one to work.\n",
    "                   index = 'col1', # which column is the index. If none, creates an index by itself\n",
    "                   skiprows = 12, # line numbers to skip (0-indexed)\n",
    "                   nrows = 12) # Read only the first 12 rows\n",
    "                      \n",
    "# saves dataframe as a csv\n",
    "pd.DataFrame().to_csv('name')"
   ]
  },
  {
   "cell_type": "markdown",
   "metadata": {},
   "source": [
    "Dataframes carry some basic **methods** and **attributes**. Here are just some of the most useful ones."
   ]
  },
  {
   "cell_type": "code",
   "execution_count": null,
   "metadata": {},
   "outputs": [],
   "source": [
    "# show the 10 first rows. Default value = 5\n",
    "df.head(10) \n",
    "\n",
    "# Show the 10 last rows. Default value = 5\n",
    "df.tail(10)\n",
    "\n",
    "# basic statistics per column\n",
    "df.describe() \n",
    "\n",
    "# tupple: (Rows, Columns)\n",
    "df.shape\n",
    "\n",
    "# type of the values in each column\n",
    "df.dtypes   \n",
    "\n",
    "# informations on the index\n",
    "df.index \n",
    "\n",
    "# use column col1 as the index\n",
    "df.set_index('col1')\n",
    "\n",
    "# create another set of indices and put the old index back as a column (drop=True drops the old index)\n",
    "df.reset_index(drop=True)    \n",
    "\n",
    "# a list with the names of columns. One can change them by setting them equal to another list.\n",
    "df.columns\n",
    "\n",
    "# drops col1 from df (axis=0 -> rows, axis=1 -> columns)\n",
    "df.drop('col1', axis=1)  \n",
    "\n",
    "# renames columns\n",
    "df.rename({'old_name':'new_name'}) \n",
    "\n",
    "# selects column named 'col1' from Dataframe df. This object is a pandas series.\n",
    "df.col1 or df['col1']\n",
    "\n",
    "# unique values of column col1\n",
    "df.col1.unique()\n",
    "\n",
    "# number of unique values of column col1.\n",
    "df.col1.nunique()\n",
    "\n",
    "# count occurences of unique values (normalize = True, gives percentages instead of pure counts)\n",
    "df.col1.value_counts(normalize = True)   \n",
    "\n",
    "# conditional selection\n",
    "df[df.col1 = 'hey']\n",
    "\n",
    "# access a group of rows and columns by label(s)\n",
    "df.loc['Greece', 'col1']     \n",
    "\n",
    "# purely integer-location based indexing for selection by position\n",
    "df.iloc[12,1]     \n",
    "\n",
    "# sort values of dataframe (default ascending = True)\n",
    "df.sort_values('col1', ascending = False)  \n",
    "\n",
    "# groups data and select a lot of statistics\n",
    "df.groupby('col1').agg(['min', 'max', 'mean'])"
   ]
  },
  {
   "cell_type": "markdown",
   "metadata": {},
   "source": [
    "### Matplotlib\n",
    "\n",
    "Matplotlib is a plotting library for the Python programming language and its numerical mathematics extension NumPy. It provides an object-oriented API for embedding plots into applications.\n",
    "\n",
    "Let's create some data to work with."
   ]
  },
  {
   "cell_type": "code",
   "execution_count": null,
   "metadata": {},
   "outputs": [],
   "source": [
    "import numpy as np\n",
    "import matplotlib.pyplot as plt"
   ]
  },
  {
   "cell_type": "code",
   "execution_count": 70,
   "metadata": {},
   "outputs": [],
   "source": [
    "# data to plot\n",
    "x = np.linspace(1,20, num=20)\n",
    "y1 = np.sort(np.random.random_sample(size=20) * 100**5)\n",
    "y2 = np.sort(np.random.random_sample(size=20) * 100**5 + 50)"
   ]
  },
  {
   "cell_type": "markdown",
   "metadata": {},
   "source": [
    "Let's start with a basic **line** graph."
   ]
  },
  {
   "cell_type": "code",
   "execution_count": 95,
   "metadata": {},
   "outputs": [
    {
     "data": {
      "image/png": "[encoded data removed]",
      "text/plain": [
       "<Figure size 1800x600 with 1 Axes>"
      ]
     },
     "metadata": {},
     "output_type": "display_data"
    }
   ],
   "source": [
    "# pick style\n",
    "plt.style.use('fivethirtyeight')\n",
    "\n",
    "# arranges the details of the graph\n",
    "plt.figure(\n",
    "    figsize = (18,6) # sets the size of the figure \n",
    ")                 \n",
    "\n",
    "# start adding plots to the figure\n",
    "plt.plot(x, y1, \n",
    "         color='red', # the color of the line\n",
    "         alpha=0.5, # the transparency of the line\n",
    "         label=\"red\", # the label that characterizes this speicifc plot\n",
    "         marker=\".\", # marker for actual datapoints (not the line connecting them)\n",
    "         linewidth = 1, # the width of the line, measured in pixels  \n",
    "         linestyle = '-' # the style of the line, i.e what symbol will be used in order to create the plot\n",
    ")\n",
    "\n",
    "# add another plot to the (same) figure\n",
    "plt.plot(x, y2, color='blue', alpha=0.5, label=\"blue\", marker=\"o\", linestyle='--', linewidth=1.5)\n",
    "\n",
    "# title of the graph\n",
    "plt.title('A Line Graph')\n",
    "        \n",
    "# name of x-axis\n",
    "plt.xlabel('x-axis')\n",
    "        \n",
    "# name of y-axis       \n",
    "plt.ylabel('y-axis')                                         \n",
    "\n",
    "# uses the labels of plots and creates a legend.       \n",
    "plt.legend(\n",
    "    loc = 'upper left', # sets the position of the legend.\n",
    "    frameon = True # sets if there is a frame covering legend or not\n",
    ")    \n",
    "\n",
    "# limits of x-axis\n",
    "#plt.xlim([-100, +100])  \n",
    "        \n",
    "# limits of y-axis\n",
    "#plt.ylim([-100, +100])     \n",
    "\n",
    "# no scientific notation\n",
    "plt.ticklabel_format(style='plain') \n",
    "\n",
    "# shows the plot that we created (always at the end of the code)\n",
    "plt.show()"
   ]
  },
  {
   "cell_type": "markdown",
   "metadata": {},
   "source": [
    "Now let's build a **bar** plot and a horizontal bar plot."
   ]
  },
  {
   "cell_type": "code",
   "execution_count": 96,
   "metadata": {},
   "outputs": [
    {
     "data": {
      "image/png": "[encoded data removed]",
      "text/plain": [
       "<Figure size 1800x600 with 1 Axes>"
      ]
     },
     "metadata": {},
     "output_type": "display_data"
    }
   ],
   "source": [
    "# vertical bar plot\n",
    "plt.figure(figsize = (18,6))\n",
    "width=0.3\n",
    "plt.bar(x - width/2, y1, width=width, color='red', label = 'Red' )\n",
    "plt.bar(x + width/2, y2, width=width, color='blue', label = 'Blue')\n",
    "plt.title('Bar Plot')\n",
    "plt.xlabel('x-axis')     \n",
    "plt.ylabel('y-axis')  \n",
    "plt.legend()\n",
    "plt.show()"
   ]
  },
  {
   "cell_type": "code",
   "execution_count": 97,
   "metadata": {},
   "outputs": [
    {
     "data": {
      "image/png": "[encoded data removed]",
      "text/plain": [
       "<Figure size 1000x500 with 1 Axes>"
      ]
     },
     "metadata": {},
     "output_type": "display_data"
    }
   ],
   "source": [
    "# horizontal bar plot\n",
    "plt.figure(figsize = (10,5))   \n",
    "\n",
    "height=0.3\n",
    "bar1 = plt.barh(x - height/2, y1, height=height, color='red', label = 'Red')\n",
    "bar2 = plt.barh(x + height/2, y2, height=height, color='blue', label = 'Blue')\n",
    "plt.legend()\n",
    "plt.title('Horizontal Bar Plot')\n",
    "plt.xlabel('x-axis')     \n",
    "plt.ylabel('y-axis')  \n",
    "plt.bar_label(bar1)\n",
    "plt.bar_label(bar2)\n",
    "plt.show()"
   ]
  },
  {
   "cell_type": "markdown",
   "metadata": {},
   "source": [
    "Some more kind of basic plots."
   ]
  },
  {
   "cell_type": "code",
   "execution_count": null,
   "metadata": {
    "tags": []
   },
   "outputs": [],
   "source": [
    "# histogram\n",
    "plt.hist(x, bins = 30)\n",
    "\n",
    "# scatter Plot\n",
    "plt.scatter(x3, y3, label = 'Scatter Plot')\n",
    "\n",
    "# pie chart\n",
    "plt.pie(x, labels=[], colors=[],\n",
    "        startangle=90, # starting angle (here 90 degrees)\n",
    "        shadow = True, # adds a shadow\n",
    "        explode = (0, 0.1, 0), # explodes slices of pie. Define which and how in the parenthesis. (here only the second one by 0.1)\n",
    "        autopct = '%1.1f%%', # adds percentages on the slices of the pie                             "
   ]
  },
  {
   "cell_type": "markdown",
   "metadata": {},
   "source": [
    "### TensorFlow\n",
    "\n",
    "TensorFlow is a free and open-source software library for machine learning and artificial intelligence. It can be used across a range of tasks but has a particular focus on training and inference of deep neural networks. It was developed by the Google Brain team for internal Google use in research and production. Google released the updated version of TensorFlow, named TensorFlow 2.0, in September 2019. TensorFlow can be used in a wide variety of programming languages, including Python, JavaScript, C++, and Java. This flexibility lends itself to a range of applications in many different sectors.\n",
    "\n",
    "In this notebook I will go through some of the fundamentals of the basic core of tensorflow. Tensorflow is built on numpy, so I will begin with a short review of numpy.\n",
    "**TensorFlow** is an open-source end-to-end machine learning library for preprocessing data, modelling data and serving models.Rather than building machine learning and deep learning models from scratch, tensorflow contains many of the most common machine learning functions one might need. \n",
    "\n",
    "While TensorFlow is vast, the main premise is simple: turn data into numbers (tensors) and build machine learning algorithms to find patterns in them."
   ]
  },
  {
   "cell_type": "markdown",
   "metadata": {},
   "source": [
    "#### tf.constant()\n",
    "\n",
    "In general, we won't create tensors ourselfs. This is because TensorFlow has modules built-in which are able to read data sources and automatically convert them to tensors and then later on, neural network models will process these for us. \n",
    "\n",
    "But for now, because we're getting familar with tensors themselves and how to manipulate them, we'll see how we can create them ourselves."
   ]
  },
  {
   "cell_type": "code",
   "execution_count": null,
   "metadata": {},
   "outputs": [],
   "source": [
    "import tensorflow as tf"
   ]
  },
  {
   "cell_type": "code",
   "execution_count": 46,
   "metadata": {},
   "outputs": [
    {
     "data": {
      "text/plain": [
       "<tf.Tensor: shape=(), dtype=int32, numpy=7>"
      ]
     },
     "execution_count": 46,
     "metadata": {},
     "output_type": "execute_result"
    }
   ],
   "source": [
    "# scalar constant (rank 0 tensor)\n",
    "scalar = tf.constant(7, name=\"scalar\", dtype=tf.int32) # default dtype: int32 or float32 datatype.\n",
    "scalar"
   ]
  },
  {
   "cell_type": "code",
   "execution_count": 49,
   "metadata": {},
   "outputs": [
    {
     "data": {
      "text/plain": [
       "<tf.Tensor: shape=(2,), dtype=float64, numpy=array([ 7., 10.])>"
      ]
     },
     "execution_count": 49,
     "metadata": {},
     "output_type": "execute_result"
    }
   ],
   "source": [
    "# vector constant (rank 1 tensor)\n",
    "vector = tf.constant([7.,10.], name=\"vector\", dtype=tf.float64)\n",
    "vector"
   ]
  },
  {
   "cell_type": "code",
   "execution_count": 64,
   "metadata": {},
   "outputs": [
    {
     "data": {
      "text/plain": [
       "<tf.Tensor: shape=(2, 2), dtype=int32, numpy=\n",
       "array([[ 7, 10],\n",
       "       [10,  7]], dtype=int32)>"
      ]
     },
     "execution_count": 64,
     "metadata": {},
     "output_type": "execute_result"
    }
   ],
   "source": [
    "# 2-D matrix constant (rank 2 tensor)\n",
    "matrix_2d = tf.constant([[7,10],\n",
    "                         [10,7]], name=\"2d_matrix\", dtype=tf.int32)\n",
    "matrix_2d"
   ]
  },
  {
   "cell_type": "code",
   "execution_count": 65,
   "metadata": {},
   "outputs": [
    {
     "data": {
      "text/plain": [
       "<tf.Tensor: shape=(2, 2, 2), dtype=int32, numpy=\n",
       "array([[[ 7, 10],\n",
       "        [10,  7]],\n",
       "\n",
       "       [[10,  7],\n",
       "        [ 7, 10]]], dtype=int32)>"
      ]
     },
     "execution_count": 65,
     "metadata": {},
     "output_type": "execute_result"
    }
   ],
   "source": [
    "# 3-D matrix constant (rank 3 tensor)\n",
    "matrix_3d = tf.constant([[[7,10],\n",
    "                          [10,7]],\n",
    "                         [[10,7],\n",
    "                          [7,10]]], name=\"3d_matrix\", dtype=tf.int32)\n",
    "matrix_3d"
   ]
  },
  {
   "cell_type": "markdown",
   "metadata": {
    "tags": []
   },
   "source": [
    "Sometimes we'll want to alter the default datatype of a tensor. This is common when we want to compute using less precision (e.g. 16-bit floating point numbers vs. 32-bit floating point numbers).\n",
    "\n",
    "Computing with less precision is useful on devices with less computing capacity such as mobile devices (because the less bits, the less space the computations require)."
   ]
  },
  {
   "cell_type": "code",
   "execution_count": 165,
   "metadata": {},
   "outputs": [
    {
     "data": {
      "text/plain": [
       "<tf.Tensor: shape=(), dtype=float32, numpy=2.0>"
      ]
     },
     "execution_count": 165,
     "metadata": {},
     "output_type": "execute_result"
    }
   ],
   "source": [
    "# Create a new tensor with default datatype (int32)\n",
    "scalar_float_32 = tf.cast(scalar, dtype=tf.float32)\n",
    "scalar_float_32"
   ]
  },
  {
   "cell_type": "markdown",
   "metadata": {},
   "source": [
    "Tensors carry their own **attributes** like:\n",
    "* **Shape**: The length (number of elements) of each of the dimensions of a tensor.\n",
    "* **Rank**: The number of tensor dimensions.\n",
    "* **Axis or Dimension**: A particular dimension of a tensor.\n",
    "* **Size**: The total number of items in the tensor."
   ]
  },
  {
   "cell_type": "code",
   "execution_count": 136,
   "metadata": {},
   "outputs": [
    {
     "name": "stdout",
     "output_type": "stream",
     "text": [
      "Datatype of every element: <dtype: 'int32'>\n",
      "Number of dimensions (rank): 3\n",
      "Shape of tensor: (2, 2, 2)\n",
      "Total number of elements (2*2*2): tf.Tensor(8, shape=(), dtype=int32)\n"
     ]
    }
   ],
   "source": [
    "# various tensor attributes\n",
    "print(\"Datatype of every element:\", matrix_3d.dtype)\n",
    "print(\"Number of dimensions (rank):\", matrix_3d.ndim)\n",
    "print(\"Shape of tensor:\", matrix_3d.shape)\n",
    "print(\"Total number of elements (2*2*2):\", tf.size(matrix_3d).numpy()) # .numpy() converts to NumPy array"
   ]
  },
  {
   "cell_type": "markdown",
   "metadata": {},
   "source": [
    "We can **index** tensors just like Python lists."
   ]
  },
  {
   "cell_type": "code",
   "execution_count": 149,
   "metadata": {},
   "outputs": [
    {
     "data": {
      "text/plain": [
       "<tf.Tensor: shape=(2, 1), dtype=int32, numpy=\n",
       "array([[10],\n",
       "       [ 7]], dtype=int32)>"
      ]
     },
     "execution_count": 149,
     "metadata": {},
     "output_type": "execute_result"
    }
   ],
   "source": [
    "# indexing a tensor\n",
    "matrix_3d[1, 0:, :1]"
   ]
  },
  {
   "cell_type": "markdown",
   "metadata": {
    "tags": []
   },
   "source": [
    "There are some other ways to create constant tensors."
   ]
  },
  {
   "cell_type": "code",
   "execution_count": 71,
   "metadata": {},
   "outputs": [
    {
     "data": {
      "text/plain": [
       "(<tf.Tensor: shape=(2, 3), dtype=float32, numpy=\n",
       " array([[0., 0., 0.],\n",
       "        [0., 0., 0.]], dtype=float32)>,\n",
       " <tf.Tensor: shape=(3, 2), dtype=float32, numpy=\n",
       " array([[1., 1.],\n",
       "        [1., 1.],\n",
       "        [1., 1.]], dtype=float32)>)"
      ]
     },
     "execution_count": 71,
     "metadata": {},
     "output_type": "execute_result"
    }
   ],
   "source": [
    "# a tensor of given dimensions full with 0's and 1's!\n",
    "zeros = tf.zeros((2, 3))   \n",
    "ones = tf.ones((3,2))\n",
    "zeros, ones"
   ]
  },
  {
   "cell_type": "code",
   "execution_count": 150,
   "metadata": {},
   "outputs": [
    {
     "data": {
      "text/plain": [
       "(<tf.Tensor: shape=(2, 3), dtype=int32, numpy=\n",
       " array([[7, 7, 7],\n",
       "        [7, 7, 7]], dtype=int32)>,\n",
       " <tf.Tensor: shape=(3, 2), dtype=int32, numpy=\n",
       " array([[10, 10],\n",
       "        [10, 10],\n",
       "        [10, 10]], dtype=int32)>)"
      ]
     },
     "execution_count": 150,
     "metadata": {},
     "output_type": "execute_result"
    }
   ],
   "source": [
    "# general form\n",
    "sevens = tf.fill(dims = (2, 3), value = 7)\n",
    "tens = tf.fill(dims = (3, 2), value = 10)\n",
    "sevens, tens"
   ]
  },
  {
   "cell_type": "code",
   "execution_count": 126,
   "metadata": {},
   "outputs": [
    {
     "data": {
      "text/plain": [
       "<tf.Tensor: shape=(5,), dtype=int32, numpy=array([ 3,  6,  9, 12, 15], dtype=int32)>"
      ]
     },
     "execution_count": 126,
     "metadata": {},
     "output_type": "execute_result"
    }
   ],
   "source": [
    "# range (limit is not included)\n",
    "ran = tf.range(start = 3, limit=18, delta=3)\n",
    "ran"
   ]
  },
  {
   "cell_type": "code",
   "execution_count": 127,
   "metadata": {},
   "outputs": [
    {
     "data": {
      "text/plain": [
       "<tf.Tensor: shape=(4,), dtype=float32, numpy=array([10., 11., 12., 13.], dtype=float32)>"
      ]
     },
     "execution_count": 127,
     "metadata": {},
     "output_type": "execute_result"
    }
   ],
   "source": [
    "# sequence of numbers\n",
    "linspace = tf.linspace(start = 10.0, stop = 13.0, num = 4)\n",
    "linspace"
   ]
  },
  {
   "cell_type": "markdown",
   "metadata": {
    "tags": []
   },
   "source": [
    "We can perform many of the basic mathematical operations directly on tensors using Pyhton operators. (Since we used tf.constant(), the original tensor is unchanged (the addition gets done on a copy)."
   ]
  },
  {
   "cell_type": "code",
   "execution_count": 128,
   "metadata": {},
   "outputs": [
    {
     "data": {
      "text/plain": [
       "(<tf.Tensor: shape=(2, 2), dtype=int32, numpy=\n",
       " array([[20, 17],\n",
       "        [13, 14]], dtype=int32)>,\n",
       " <tf.Tensor: shape=(2, 2), dtype=int32, numpy=\n",
       " array([[100,  70],\n",
       "        [ 30,  40]], dtype=int32)>,\n",
       " <tf.Tensor: shape=(2, 2), dtype=int32, numpy=\n",
       " array([[ 0, -3],\n",
       "        [-7, -6]], dtype=int32)>,\n",
       " <tf.Tensor: shape=(2, 2), dtype=float64, numpy=\n",
       " array([[1. , 0.7],\n",
       "        [0.3, 0.4]])>)"
      ]
     },
     "execution_count": 128,
     "metadata": {},
     "output_type": "execute_result"
    }
   ],
   "source": [
    "# we can operate with values to a tensor using the corresponding operator\n",
    "tensor = tf.constant([[10, 7], \n",
    "                      [3, 4]])\n",
    "\n",
    "tensor + 10, tensor * 10, tensor - 10, tensor /10"
   ]
  },
  {
   "cell_type": "markdown",
   "metadata": {},
   "source": [
    "We can also use the following function for the basic operations."
   ]
  },
  {
   "cell_type": "code",
   "execution_count": 159,
   "metadata": {},
   "outputs": [
    {
     "data": {
      "text/plain": [
       "(<tf.Tensor: shape=(1, 2), dtype=int32, numpy=array([[5, 8]], dtype=int32)>,\n",
       " <tf.Tensor: shape=(1, 2), dtype=int32, numpy=array([[ 6, 12]], dtype=int32)>,\n",
       " <tf.Tensor: shape=(1, 1), dtype=int32, numpy=array([[18]], dtype=int32)>,\n",
       " <tf.Tensor: shape=(1, 2), dtype=float64, numpy=array([[1.5, 3. ]])>,\n",
       " <tf.Tensor: shape=(1, 2), dtype=int32, numpy=array([[ 9, 36]], dtype=int32)>)"
      ]
     },
     "execution_count": 159,
     "metadata": {},
     "output_type": "execute_result"
    }
   ],
   "source": [
    "a = tf.constant([[3, 6]])\n",
    "b = tf.constant([[2, 2]])\n",
    "\n",
    "# element wise addition\n",
    "addition = tf.add(a,b)\n",
    "\n",
    "# element wise multiplication\n",
    "multiplication = tf.multiply(a,b)\n",
    "\n",
    "# matrix multiplication (reshaping needed)\n",
    "matrix_multiplication = tf.matmul(tf.reshape(a, [1, 2]), tf.reshape(b, [2, 1]))\n",
    "\n",
    "# element wise division\n",
    "division = tf.divide(a, b)\n",
    "\n",
    "# element wise rise to power\n",
    "power = tf.pow(a,b)\n",
    "\n",
    "addition, multiplication, matrix_multiplication, division, power"
   ]
  },
  {
   "cell_type": "markdown",
   "metadata": {},
   "source": [
    "Some more basic operation functions."
   ]
  },
  {
   "cell_type": "code",
   "execution_count": 168,
   "metadata": {},
   "outputs": [
    {
     "data": {
      "text/plain": [
       "(<tf.Tensor: shape=(1, 2), dtype=int32, numpy=array([[ 9, 36]], dtype=int32)>,\n",
       " <tf.Tensor: shape=(1, 2), dtype=float32, numpy=array([[1.7320508, 2.4494898]], dtype=float32)>,\n",
       " <tf.Tensor: shape=(1, 2), dtype=float32, numpy=array([[1.0986123, 1.7917595]], dtype=float32)>,\n",
       " <tf.Tensor: shape=(1, 2), dtype=int32, numpy=array([[3, 6]], dtype=int32)>,\n",
       " <tf.Tensor: shape=(), dtype=int32, numpy=3>,\n",
       " <tf.Tensor: shape=(2,), dtype=int64, numpy=array([0, 0])>,\n",
       " <tf.Tensor: shape=(), dtype=int32, numpy=6>,\n",
       " <tf.Tensor: shape=(2,), dtype=int64, numpy=array([0, 0])>,\n",
       " <tf.Tensor: shape=(), dtype=int32, numpy=4>,\n",
       " <tf.Tensor: shape=(), dtype=int32, numpy=9>)"
      ]
     },
     "execution_count": 168,
     "metadata": {},
     "output_type": "execute_result"
    }
   ],
   "source": [
    "# square\n",
    "square = tf.square(a)\n",
    "\n",
    "# square root\n",
    "sqrt = tf.sqrt(tf.cast(a, tf.float32))\n",
    "\n",
    "# log\n",
    "log = tf.math.log(tf.cast(a, tf.float32))\n",
    "\n",
    "# absolute values\n",
    "absolute_value = tf.abs(a)\n",
    "\n",
    "# find the minimum\n",
    "reduce_min = tf.reduce_min(a)\n",
    "\n",
    "# find the minimum element position\n",
    "argmin = tf.argmin(a)\n",
    "\n",
    "# find the maximum\n",
    "reduce_max = tf.reduce_max(a)\n",
    "\n",
    "# find the maximum element position\n",
    "argmax = tf.argmax(a)\n",
    "\n",
    "# find the mean\n",
    "reduce_mean = tf.reduce_mean(a)\n",
    "\n",
    "# find the sum\n",
    "reduce_sum = tf.reduce_sum(a)\n",
    "\n",
    "square, sqrt, log, absolute_value, reduce_min, argmin, reduce_max, argmax, reduce_mean, reduce_sum"
   ]
  },
  {
   "cell_type": "markdown",
   "metadata": {},
   "source": [
    "If you have a tensor of indicies and would like to **one-hot encode** it, you can use tf.one_hot(). You should also specify the depth parameter (the level which you want to one-hot encode to)."
   ]
  },
  {
   "cell_type": "code",
   "execution_count": 163,
   "metadata": {},
   "outputs": [
    {
     "data": {
      "text/plain": [
       "<tf.Tensor: shape=(4, 4), dtype=float32, numpy=\n",
       "array([[1., 0., 0., 0.],\n",
       "       [0., 1., 0., 0.],\n",
       "       [0., 0., 1., 0.],\n",
       "       [0., 0., 0., 1.]], dtype=float32)>"
      ]
     },
     "execution_count": 163,
     "metadata": {},
     "output_type": "execute_result"
    }
   ],
   "source": [
    "some_list = [0, 1, 2, 3]\n",
    "\n",
    "# one hot encodingb\n",
    "tf.one_hot(some_list, depth=4)"
   ]
  },
  {
   "cell_type": "markdown",
   "metadata": {},
   "source": [
    "If you need to remove single-dimensions from a tensor (dimensions with size 1), we can use **squeeze** it, i.e  remove all dimensions of 1 from a tensor."
   ]
  },
  {
   "cell_type": "code",
   "execution_count": 172,
   "metadata": {},
   "outputs": [
    {
     "data": {
      "text/plain": [
       "<tf.Tensor: shape=(1, 1, 1, 1, 50), dtype=int64, numpy=\n",
       "array([[[[[88, 37, 20, 20, 24, 49, 45, 89, 73, 77, 56, 13, 97, 55, 12,\n",
       "           65, 90,  4, 97, 18, 26,  9, 73, 11,  4, 66, 28, 43, 33, 77,\n",
       "            6, 42,  1, 97,  7, 25, 98, 78,  6, 15, 29, 84, 89, 40, 58,\n",
       "           38,  7, 42, 60, 73]]]]])>"
      ]
     },
     "execution_count": 172,
     "metadata": {},
     "output_type": "execute_result"
    }
   ],
   "source": [
    "c = tf.constant(np.random.randint(0, 100, 50), shape=(1, 1, 1, 1, 50))\n",
    "c"
   ]
  },
  {
   "cell_type": "code",
   "execution_count": 173,
   "metadata": {},
   "outputs": [
    {
     "data": {
      "text/plain": [
       "<tf.Tensor: shape=(50,), dtype=int64, numpy=\n",
       "array([88, 37, 20, 20, 24, 49, 45, 89, 73, 77, 56, 13, 97, 55, 12, 65, 90,\n",
       "        4, 97, 18, 26,  9, 73, 11,  4, 66, 28, 43, 33, 77,  6, 42,  1, 97,\n",
       "        7, 25, 98, 78,  6, 15, 29, 84, 89, 40, 58, 38,  7, 42, 60, 73])>"
      ]
     },
     "execution_count": 173,
     "metadata": {},
     "output_type": "execute_result"
    }
   ],
   "source": [
    "# squeeze tensor (remove all 1 dimensions)\n",
    "c_squeezed = tf.squeeze(c)\n",
    "c_squeezed"
   ]
  },
  {
   "cell_type": "markdown",
   "metadata": {},
   "source": [
    "#### tf.Variable()\n",
    "\n",
    "The difference between **tf.Variable()** and **tf.constant()** is tensors created with tf.constant() are immutable (can't be changed, can only be used to create a new tensor), where as, tensors created with tf.Variable() are mutable (can be changed)."
   ]
  },
  {
   "cell_type": "code",
   "execution_count": 87,
   "metadata": {
    "tags": []
   },
   "outputs": [],
   "source": [
    "# scalar variable\n",
    "scalar = tf.Variable(2, name=\"scalar\")\n",
    "\n",
    "# vector variable\n",
    "vector = tf.Variable([2, 3], name=\"vector\")\n",
    "\n",
    "# matrix variable\n",
    "matrix = tf.Variable([\n",
    "    [0, 1], \n",
    "    [2, 3]\n",
    "], name=\"matrix\")"
   ]
  },
  {
   "cell_type": "markdown",
   "metadata": {},
   "source": [
    "To change an element of a tf.Variable() tensor requires the assign() method."
   ]
  },
  {
   "cell_type": "code",
   "execution_count": 42,
   "metadata": {},
   "outputs": [
    {
     "data": {
      "text/plain": [
       "<tf.Variable 'scalar:0' shape=() dtype=int32, numpy=3>"
      ]
     },
     "execution_count": 42,
     "metadata": {},
     "output_type": "execute_result"
    }
   ],
   "source": [
    "# assign operation\n",
    "scalar.assign(3)"
   ]
  },
  {
   "cell_type": "markdown",
   "metadata": {},
   "source": [
    "#### tf.random()\n",
    "\n",
    "Random tensors are tensors of some abitrary size which contain random numbers. This is what neural networks use to intialize their weights that they're trying to learn in the data."
   ]
  },
  {
   "cell_type": "code",
   "execution_count": 116,
   "metadata": {},
   "outputs": [],
   "source": [
    "# global level seed (for reproducibility)\n",
    "tf.random.set_seed(42)"
   ]
  },
  {
   "cell_type": "code",
   "execution_count": 125,
   "metadata": {
    "tags": []
   },
   "outputs": [],
   "source": [
    "# random tensor generator (local level seed)\n",
    "random_tensor = tf.random.Generator.from_seed(42)"
   ]
  },
  {
   "cell_type": "code",
   "execution_count": 118,
   "metadata": {},
   "outputs": [
    {
     "data": {
      "text/plain": [
       "<tf.Tensor: shape=(3, 2), dtype=float32, numpy=\n",
       "array([[0.7493447 , 0.73561966],\n",
       "       [0.45230794, 0.49039817],\n",
       "       [0.1889317 , 0.52027524]], dtype=float32)>"
      ]
     },
     "execution_count": 118,
     "metadata": {},
     "output_type": "execute_result"
    }
   ],
   "source": [
    "# random tensor from uniform distribution\n",
    "random_tensor_uniform = random_tensor.uniform(shape=(3,2))\n",
    "random_tensor_uniform"
   ]
  },
  {
   "cell_type": "code",
   "execution_count": 119,
   "metadata": {},
   "outputs": [
    {
     "data": {
      "text/plain": [
       "<tf.Tensor: shape=(2, 3), dtype=float32, numpy=\n",
       "array([[ 0.17522676,  0.71105534,  0.54882437],\n",
       "       [ 0.14896014, -0.54757965,  0.61634356]], dtype=float32)>"
      ]
     },
     "execution_count": 119,
     "metadata": {},
     "output_type": "execute_result"
    }
   ],
   "source": [
    "# random tensor from normal distribution\n",
    "random_tensor_normal = random_tensor.normal(shape=(2,3))\n",
    "random_tensor_normal"
   ]
  },
  {
   "cell_type": "markdown",
   "metadata": {},
   "source": [
    "Random can also shuffle a tensor."
   ]
  },
  {
   "cell_type": "code",
   "execution_count": 124,
   "metadata": {},
   "outputs": [
    {
     "data": {
      "text/plain": [
       "<tf.Tensor: shape=(3, 2), dtype=int32, numpy=\n",
       "array([[ 7, 10],\n",
       "       [ 5,  4],\n",
       "       [ 2,  3]], dtype=int32)>"
      ]
     },
     "execution_count": 124,
     "metadata": {},
     "output_type": "execute_result"
    }
   ],
   "source": [
    "# randomly shuffle a tensor\n",
    "tensor = tf.constant([[7,10], [2,3], [5,4]])\n",
    "tf.random.shuffle(tensor)"
   ]
  }
 ],
 "metadata": {
  "kernelspec": {
   "display_name": "Python 3 (ipykernel)",
   "language": "python",
   "name": "python3"
  },
  "language_info": {
   "codemirror_mode": {
    "name": "ipython",
    "version": 3
   },
   "file_extension": ".py",
   "mimetype": "text/x-python",
   "name": "python",
   "nbconvert_exporter": "python",
   "pygments_lexer": "ipython3",
   "version": "3.10.4"
  },
  "toc-autonumbering": true
 },
 "nbformat": 4,
 "nbformat_minor": 4
}
