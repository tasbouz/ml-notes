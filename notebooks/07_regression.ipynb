{
 "cells": [
  {
   "cell_type": "markdown",
   "id": "258d10ad-0bcf-4f2f-a55d-a3aa0f0d6783",
   "metadata": {},
   "source": [
    "# Regression\n",
    "\n",
    "In this notebook, we're going to set the foundations for how we can take a sample of inputs (data), build a regression mdoel to discover patterns in those inputs and then make a prediction (in the form of a number) based on those inputs.\n",
    "We will go through all of these using both **sklearn** and **tensorflow** modules."
   ]
  },
  {
   "cell_type": "code",
   "execution_count": 9,
   "id": "4c8e0868-09fe-42ed-afdf-e8e21cbec15d",
   "metadata": {},
   "outputs": [],
   "source": [
    "import random\n",
    "\n",
    "import numpy as np\n",
    "import pandas as pd\n",
    "import matplotlib.pyplot as plt\n",
    "plt.rcParams['figure.figsize'] = (18, 6)\n",
    "\n",
    "import tensorflow as tf\n",
    "tf.random.set_seed(42)\n",
    "\n",
    "from tensorflow.keras.utils import plot_model\n",
    "\n",
    "from sklearn.linear_model import LinearRegression\n",
    "from sklearn.model_selection import train_test_split, cross_val_score\n",
    "from sklearn.compose import make_column_transformer\n",
    "from sklearn.preprocessing import MinMaxScaler, OneHotEncoder\n",
    "from sklearn.metrics import mean_absolute_error"
   ]
  },
  {
   "cell_type": "code",
   "execution_count": 1,
   "id": "2092ca63-bb30-4665-b0bd-f95b68d82011",
   "metadata": {},
   "outputs": [],
   "source": [
    "from sklearn.datasets import load"
   ]
  },
  {
   "cell_type": "markdown",
   "id": "9764d357-47f4-4870-9f2f-9403efac1713",
   "metadata": {},
   "source": [
    "## Linear Regression\n",
    "\n",
    "Let's begin with a simple linear regression problem."
   ]
  },
  {
   "cell_type": "markdown",
   "id": "e331df2b-f299-4b3c-a27f-582649343633",
   "metadata": {},
   "source": [
    "### Data\n",
    "\n",
    "Before we dive into modeling, we always begin with the data."
   ]
  },
  {
   "cell_type": "markdown",
   "id": "7760f969-e267-4e84-bacf-90afb33cfeba",
   "metadata": {},
   "source": [
    "#### Data Exploration\n",
    "Let's start by loading the dataset for linear regression."
   ]
  },
  {
   "cell_type": "code",
   "execution_count": 2,
   "id": "6dd52203-947c-4197-bbb6-ce33aa5566ac",
   "metadata": {},
   "outputs": [
    {
     "data": {
      "text/html": [
       "<div>\n",
       "<style scoped>\n",
       "    .dataframe tbody tr th:only-of-type {\n",
       "        vertical-align: middle;\n",
       "    }\n",
       "\n",
       "    .dataframe tbody tr th {\n",
       "        vertical-align: top;\n",
       "    }\n",
       "\n",
       "    .dataframe thead th {\n",
       "        text-align: right;\n",
       "    }\n",
       "</style>\n",
       "<table border=\"1\" class=\"dataframe\">\n",
       "  <thead>\n",
       "    <tr style=\"text-align: right;\">\n",
       "      <th></th>\n",
       "      <th>age</th>\n",
       "      <th>sex</th>\n",
       "      <th>bmi</th>\n",
       "      <th>children</th>\n",
       "      <th>smoker</th>\n",
       "      <th>region</th>\n",
       "      <th>charges</th>\n",
       "    </tr>\n",
       "  </thead>\n",
       "  <tbody>\n",
       "    <tr>\n",
       "      <th>0</th>\n",
       "      <td>19</td>\n",
       "      <td>female</td>\n",
       "      <td>27.900</td>\n",
       "      <td>0</td>\n",
       "      <td>yes</td>\n",
       "      <td>southwest</td>\n",
       "      <td>16884.92400</td>\n",
       "    </tr>\n",
       "    <tr>\n",
       "      <th>1</th>\n",
       "      <td>18</td>\n",
       "      <td>male</td>\n",
       "      <td>33.770</td>\n",
       "      <td>1</td>\n",
       "      <td>no</td>\n",
       "      <td>southeast</td>\n",
       "      <td>1725.55230</td>\n",
       "    </tr>\n",
       "    <tr>\n",
       "      <th>2</th>\n",
       "      <td>28</td>\n",
       "      <td>male</td>\n",
       "      <td>33.000</td>\n",
       "      <td>3</td>\n",
       "      <td>no</td>\n",
       "      <td>southeast</td>\n",
       "      <td>4449.46200</td>\n",
       "    </tr>\n",
       "    <tr>\n",
       "      <th>3</th>\n",
       "      <td>33</td>\n",
       "      <td>male</td>\n",
       "      <td>22.705</td>\n",
       "      <td>0</td>\n",
       "      <td>no</td>\n",
       "      <td>northwest</td>\n",
       "      <td>21984.47061</td>\n",
       "    </tr>\n",
       "    <tr>\n",
       "      <th>4</th>\n",
       "      <td>32</td>\n",
       "      <td>male</td>\n",
       "      <td>28.880</td>\n",
       "      <td>0</td>\n",
       "      <td>no</td>\n",
       "      <td>northwest</td>\n",
       "      <td>3866.85520</td>\n",
       "    </tr>\n",
       "  </tbody>\n",
       "</table>\n",
       "</div>"
      ],
      "text/plain": [
       "   age     sex     bmi  children smoker     region      charges\n",
       "0   19  female  27.900         0    yes  southwest  16884.92400\n",
       "1   18    male  33.770         1     no  southeast   1725.55230\n",
       "2   28    male  33.000         3     no  southeast   4449.46200\n",
       "3   33    male  22.705         0     no  northwest  21984.47061\n",
       "4   32    male  28.880         0     no  northwest   3866.85520"
      ]
     },
     "execution_count": 2,
     "metadata": {},
     "output_type": "execute_result"
    }
   ],
   "source": [
    "# load data and check head\n",
    "insurance_df = pd.read_csv(\"data/insurance.csv\")\n",
    "insurance_df.head()"
   ]
  },
  {
   "cell_type": "markdown",
   "id": "5988b268-832a-4806-bd5e-8e31a2ad696b",
   "metadata": {},
   "source": [
    "Now let's have a quick look of the data."
   ]
  },
  {
   "cell_type": "code",
   "execution_count": 3,
   "id": "e1ab6db3-ccfb-4a21-ab6a-63821538b44a",
   "metadata": {},
   "outputs": [
    {
     "name": "stdout",
     "output_type": "stream",
     "text": [
      "<class 'pandas.core.frame.DataFrame'>\n",
      "RangeIndex: 1338 entries, 0 to 1337\n",
      "Data columns (total 7 columns):\n",
      " #   Column    Non-Null Count  Dtype  \n",
      "---  ------    --------------  -----  \n",
      " 0   age       1338 non-null   int64  \n",
      " 1   sex       1338 non-null   object \n",
      " 2   bmi       1338 non-null   float64\n",
      " 3   children  1338 non-null   int64  \n",
      " 4   smoker    1338 non-null   object \n",
      " 5   region    1338 non-null   object \n",
      " 6   charges   1338 non-null   float64\n",
      "dtypes: float64(2), int64(2), object(3)\n",
      "memory usage: 73.3+ KB\n"
     ]
    }
   ],
   "source": [
    "# quick description of the data\n",
    "insurance_df.info()"
   ]
  },
  {
   "cell_type": "code",
   "execution_count": 4,
   "id": "77e8c60f-8d9c-48f0-8c1d-cf930e1ffddc",
   "metadata": {},
   "outputs": [
    {
     "data": {
      "text/html": [
       "<div>\n",
       "<style scoped>\n",
       "    .dataframe tbody tr th:only-of-type {\n",
       "        vertical-align: middle;\n",
       "    }\n",
       "\n",
       "    .dataframe tbody tr th {\n",
       "        vertical-align: top;\n",
       "    }\n",
       "\n",
       "    .dataframe thead th {\n",
       "        text-align: right;\n",
       "    }\n",
       "</style>\n",
       "<table border=\"1\" class=\"dataframe\">\n",
       "  <thead>\n",
       "    <tr style=\"text-align: right;\">\n",
       "      <th></th>\n",
       "      <th>age</th>\n",
       "      <th>bmi</th>\n",
       "      <th>children</th>\n",
       "      <th>charges</th>\n",
       "    </tr>\n",
       "  </thead>\n",
       "  <tbody>\n",
       "    <tr>\n",
       "      <th>count</th>\n",
       "      <td>1338.000000</td>\n",
       "      <td>1338.000000</td>\n",
       "      <td>1338.000000</td>\n",
       "      <td>1338.000000</td>\n",
       "    </tr>\n",
       "    <tr>\n",
       "      <th>mean</th>\n",
       "      <td>39.207025</td>\n",
       "      <td>30.663397</td>\n",
       "      <td>1.094918</td>\n",
       "      <td>13270.422265</td>\n",
       "    </tr>\n",
       "    <tr>\n",
       "      <th>std</th>\n",
       "      <td>14.049960</td>\n",
       "      <td>6.098187</td>\n",
       "      <td>1.205493</td>\n",
       "      <td>12110.011237</td>\n",
       "    </tr>\n",
       "    <tr>\n",
       "      <th>min</th>\n",
       "      <td>18.000000</td>\n",
       "      <td>15.960000</td>\n",
       "      <td>0.000000</td>\n",
       "      <td>1121.873900</td>\n",
       "    </tr>\n",
       "    <tr>\n",
       "      <th>25%</th>\n",
       "      <td>27.000000</td>\n",
       "      <td>26.296250</td>\n",
       "      <td>0.000000</td>\n",
       "      <td>4740.287150</td>\n",
       "    </tr>\n",
       "    <tr>\n",
       "      <th>50%</th>\n",
       "      <td>39.000000</td>\n",
       "      <td>30.400000</td>\n",
       "      <td>1.000000</td>\n",
       "      <td>9382.033000</td>\n",
       "    </tr>\n",
       "    <tr>\n",
       "      <th>75%</th>\n",
       "      <td>51.000000</td>\n",
       "      <td>34.693750</td>\n",
       "      <td>2.000000</td>\n",
       "      <td>16639.912515</td>\n",
       "    </tr>\n",
       "    <tr>\n",
       "      <th>max</th>\n",
       "      <td>64.000000</td>\n",
       "      <td>53.130000</td>\n",
       "      <td>5.000000</td>\n",
       "      <td>63770.428010</td>\n",
       "    </tr>\n",
       "  </tbody>\n",
       "</table>\n",
       "</div>"
      ],
      "text/plain": [
       "               age          bmi     children       charges\n",
       "count  1338.000000  1338.000000  1338.000000   1338.000000\n",
       "mean     39.207025    30.663397     1.094918  13270.422265\n",
       "std      14.049960     6.098187     1.205493  12110.011237\n",
       "min      18.000000    15.960000     0.000000   1121.873900\n",
       "25%      27.000000    26.296250     0.000000   4740.287150\n",
       "50%      39.000000    30.400000     1.000000   9382.033000\n",
       "75%      51.000000    34.693750     2.000000  16639.912515\n",
       "max      64.000000    53.130000     5.000000  63770.428010"
      ]
     },
     "execution_count": 4,
     "metadata": {},
     "output_type": "execute_result"
    }
   ],
   "source": [
    "# summary of the numerical attributes\n",
    "insurance_df.describe()"
   ]
  },
  {
   "cell_type": "code",
   "execution_count": 5,
   "id": "8f8f61a0-965e-4243-9b48-d20bf9b534c7",
   "metadata": {},
   "outputs": [
    {
     "data": {
      "image/png": "[encoded data removed]",
      "text/plain": [
       "<Figure size 432x288 with 4 Axes>"
      ]
     },
     "metadata": {
      "needs_background": "light"
     },
     "output_type": "display_data"
    }
   ],
   "source": [
    "# histogram of numerical attributes\n",
    "insurance_df.hist(bins=50)\n",
    "plt.show()"
   ]
  },
  {
   "cell_type": "markdown",
   "id": "af4be56f-9f41-4434-9966-9e6cb2418d30",
   "metadata": {},
   "source": [
    "#### Data Manipulation\n",
    "\n",
    "Now let's split into features and targets and then into training and test datasets."
   ]
  },
  {
   "cell_type": "code",
   "execution_count": 6,
   "id": "cf60a9bf-6e10-47c8-b840-1acb1eb921b3",
   "metadata": {},
   "outputs": [
    {
     "data": {
      "text/plain": [
       "((1070, 6), (268, 6), (1070,), (268,))"
      ]
     },
     "execution_count": 6,
     "metadata": {},
     "output_type": "execute_result"
    }
   ],
   "source": [
    "# features and target\n",
    "X = insurance_df.drop(\"charges\", axis=1)\n",
    "y = insurance_df.charges\n",
    "\n",
    "# split in train and test dataset\n",
    "X_train, X_test, y_train, y_test = train_test_split(X, y, test_size=0.2, random_state=42)\n",
    "\n",
    "X_train.shape, X_test.shape, y_train.shape, y_test.shape"
   ]
  },
  {
   "cell_type": "markdown",
   "id": "5e3508ed-1b3f-4e36-a673-d1e6b4c62a3f",
   "metadata": {},
   "source": [
    "Finally, before moving on to modeling, let's **preprocess** the data in order to make them valid for deep learning models. In general, there are many data transformation steps that need to be executed in the right order before training. Fortunately, Scikit-Learn provides the Pipeline class to help with such sequences of transformations."
   ]
  },
  {
   "cell_type": "code",
   "execution_count": 7,
   "id": "0399ae9c-73e5-48f5-b02f-e30d8321f7d8",
   "metadata": {},
   "outputs": [
    {
     "data": {
      "text/plain": [
       "((1070, 11), (268, 11), (1070,), (268,))"
      ]
     },
     "execution_count": 7,
     "metadata": {},
     "output_type": "execute_result"
    }
   ],
   "source": [
    "# preprocessing data pipeline\n",
    "column_transformer = make_column_transformer(\n",
    "    (MinMaxScaler(), [\"age\", \"bmi\", \"children\"]), # normalization\n",
    "    (OneHotEncoder(handle_unknown=\"ignore\"), [\"sex\", \"smoker\", \"region\"]) # one hot encoding\n",
    ")\n",
    "\n",
    "# fit the X_train data\n",
    "column_transformer.fit(X_train)\n",
    "\n",
    "# transform both X_train and X_test\n",
    "X_train = column_transformer.transform(X_train)\n",
    "X_test = column_transformer.transform(X_test)\n",
    "\n",
    "X_train.shape, X_test.shape, y_train.shape, y_test.shape"
   ]
  },
  {
   "cell_type": "markdown",
   "id": "9e58e2f5-60f4-4f26-b11e-3e368217f0d3",
   "metadata": {
    "tags": []
   },
   "source": [
    "#### Models\n",
    "\n",
    "Now, let's start training models. \n",
    "\n",
    "##### Linear Model\n",
    "We will begin with a simple **Linear Regression** model as a baseline model.\n"
   ]
  },
  {
   "cell_type": "code",
   "execution_count": 21,
   "id": "aa4f57bc-67f7-41f8-8c57-4e4f13ffc718",
   "metadata": {},
   "outputs": [
    {
     "data": {
      "text/html": [
       "<style>#sk-container-id-2 {color: black;background-color: white;}#sk-container-id-2 pre{padding: 0;}#sk-container-id-2 div.sk-toggleable {background-color: white;}#sk-container-id-2 label.sk-toggleable__label {cursor: pointer;display: block;width: 100%;margin-bottom: 0;padding: 0.3em;box-sizing: border-box;text-align: center;}#sk-container-id-2 label.sk-toggleable__label-arrow:before {content: \"▸\";float: left;margin-right: 0.25em;color: #696969;}#sk-container-id-2 label.sk-toggleable__label-arrow:hover:before {color: black;}#sk-container-id-2 div.sk-estimator:hover label.sk-toggleable__label-arrow:before {color: black;}#sk-container-id-2 div.sk-toggleable__content {max-height: 0;max-width: 0;overflow: hidden;text-align: left;background-color: #f0f8ff;}#sk-container-id-2 div.sk-toggleable__content pre {margin: 0.2em;color: black;border-radius: 0.25em;background-color: #f0f8ff;}#sk-container-id-2 input.sk-toggleable__control:checked~div.sk-toggleable__content {max-height: 200px;max-width: 100%;overflow: auto;}#sk-container-id-2 input.sk-toggleable__control:checked~label.sk-toggleable__label-arrow:before {content: \"▾\";}#sk-container-id-2 div.sk-estimator input.sk-toggleable__control:checked~label.sk-toggleable__label {background-color: #d4ebff;}#sk-container-id-2 div.sk-label input.sk-toggleable__control:checked~label.sk-toggleable__label {background-color: #d4ebff;}#sk-container-id-2 input.sk-hidden--visually {border: 0;clip: rect(1px 1px 1px 1px);clip: rect(1px, 1px, 1px, 1px);height: 1px;margin: -1px;overflow: hidden;padding: 0;position: absolute;width: 1px;}#sk-container-id-2 div.sk-estimator {font-family: monospace;background-color: #f0f8ff;border: 1px dotted black;border-radius: 0.25em;box-sizing: border-box;margin-bottom: 0.5em;}#sk-container-id-2 div.sk-estimator:hover {background-color: #d4ebff;}#sk-container-id-2 div.sk-parallel-item::after {content: \"\";width: 100%;border-bottom: 1px solid gray;flex-grow: 1;}#sk-container-id-2 div.sk-label:hover label.sk-toggleable__label {background-color: #d4ebff;}#sk-container-id-2 div.sk-serial::before {content: \"\";position: absolute;border-left: 1px solid gray;box-sizing: border-box;top: 0;bottom: 0;left: 50%;z-index: 0;}#sk-container-id-2 div.sk-serial {display: flex;flex-direction: column;align-items: center;background-color: white;padding-right: 0.2em;padding-left: 0.2em;position: relative;}#sk-container-id-2 div.sk-item {position: relative;z-index: 1;}#sk-container-id-2 div.sk-parallel {display: flex;align-items: stretch;justify-content: center;background-color: white;position: relative;}#sk-container-id-2 div.sk-item::before, #sk-container-id-2 div.sk-parallel-item::before {content: \"\";position: absolute;border-left: 1px solid gray;box-sizing: border-box;top: 0;bottom: 0;left: 50%;z-index: -1;}#sk-container-id-2 div.sk-parallel-item {display: flex;flex-direction: column;z-index: 1;position: relative;background-color: white;}#sk-container-id-2 div.sk-parallel-item:first-child::after {align-self: flex-end;width: 50%;}#sk-container-id-2 div.sk-parallel-item:last-child::after {align-self: flex-start;width: 50%;}#sk-container-id-2 div.sk-parallel-item:only-child::after {width: 0;}#sk-container-id-2 div.sk-dashed-wrapped {border: 1px dashed gray;margin: 0 0.4em 0.5em 0.4em;box-sizing: border-box;padding-bottom: 0.4em;background-color: white;}#sk-container-id-2 div.sk-label label {font-family: monospace;font-weight: bold;display: inline-block;line-height: 1.2em;}#sk-container-id-2 div.sk-label-container {text-align: center;}#sk-container-id-2 div.sk-container {/* jupyter's `normalize.less` sets `[hidden] { display: none; }` but bootstrap.min.css set `[hidden] { display: none !important; }` so we also need the `!important` here to be able to override the default hidden behavior on the sphinx rendered scikit-learn.org. See: https://github.com/scikit-learn/scikit-learn/issues/21755 */display: inline-block !important;position: relative;}#sk-container-id-2 div.sk-text-repr-fallback {display: none;}</style><div id=\"sk-container-id-2\" class=\"sk-top-container\"><div class=\"sk-text-repr-fallback\"><pre>LinearRegression()</pre><b>In a Jupyter environment, please rerun this cell to show the HTML representation or trust the notebook. <br />On GitHub, the HTML representation is unable to render, please try loading this page with nbviewer.org.</b></div><div class=\"sk-container\" hidden><div class=\"sk-item\"><div class=\"sk-estimator sk-toggleable\"><input class=\"sk-toggleable__control sk-hidden--visually\" id=\"sk-estimator-id-2\" type=\"checkbox\" checked><label for=\"sk-estimator-id-2\" class=\"sk-toggleable__label sk-toggleable__label-arrow\">LinearRegression</label><div class=\"sk-toggleable__content\"><pre>LinearRegression()</pre></div></div></div></div></div>"
      ],
      "text/plain": [
       "LinearRegression()"
      ]
     },
     "execution_count": 21,
     "metadata": {},
     "output_type": "execute_result"
    }
   ],
   "source": [
    "# linear regression (baseline)\n",
    "model_0 = LinearRegression()\n",
    "model_0.fit(X_train, y_train)"
   ]
  },
  {
   "cell_type": "code",
   "execution_count": 15,
   "id": "7b154a65-a266-44bc-8003-f0e4f5d3e99f",
   "metadata": {},
   "outputs": [],
   "source": [
    "# model predictions\n",
    "y_pred = model_0.predict(X_test)"
   ]
  },
  {
   "cell_type": "code",
   "execution_count": 16,
   "id": "14464983-ba4d-4329-823a-fc5e5f0f30a2",
   "metadata": {},
   "outputs": [
    {
     "data": {
      "text/plain": [
       "4138.0869576455225"
      ]
     },
     "execution_count": 16,
     "metadata": {},
     "output_type": "execute_result"
    }
   ],
   "source": [
    "# model evaluation\n",
    "mae_model_0 = mean_absolute_error(y_test, y_pred)\n",
    "mae_model_0"
   ]
  },
  {
   "cell_type": "markdown",
   "id": "11caae06-c44c-410d-b572-8eb6419a2b95",
   "metadata": {},
   "source": [
    "A better way to evaluate the model is instead of doing the splitting of the data to train and test dataset just once, to do it many times. The way it works, is that we split the dataset to K equal partitions called **folds**, and each time we use 1 of it for test, and the union of the rest for training. Usually we pick **K=10**. In the end all of them will have been used as training and test sets, and the average accuracy score will be the one of the model."
   ]
  },
  {
   "cell_type": "code",
   "execution_count": 22,
   "id": "8bdb9c0c-ead9-4b49-ba15-6b2feef99e10",
   "metadata": {},
   "outputs": [
    {
     "data": {
      "text/plain": [
       "4271.694415186916"
      ]
     },
     "execution_count": 22,
     "metadata": {},
     "output_type": "execute_result"
    }
   ],
   "source": [
    "# model evaluation through Cross Validation\n",
    "scores = cross_val_score(model_0, X_train, y_train, cv=10, scoring=\"neg_mean_absolute_error\", n_jobs = -1)\n",
    "-scores.mean()"
   ]
  },
  {
   "cell_type": "markdown",
   "id": "ecd16c69-9c46-4e86-9656-edcadf25971b",
   "metadata": {
    "tags": []
   },
   "source": [
    "##### Neural Network\n",
    "\n",
    "Although there are many different architectures of a regresison neural network, the following list is a generic neural network architecture that we will see over and over: **Input layer shape**, **Hidden layer(s)**, **Neurons per hidden layer**, **Output layer shape**, **Hidden activation**, **Output activation**, **Loss function**, and **Optimizer**. Out of all of these components, one of the most important concepts when working with neural networks are the **input and output shapes**, being the shape of the data that goes into the model and the shape of the data we want to come out of the model respectively. These will differ depending on the problem. Making sure the input and outputs are in the correct shape is vital.\n",
    "\n",
    "In TensorFlow, there are typically 5 **fundamental steps to creating and training a model**.\n",
    "\n",
    "1. **Create The Model:** Piece together the layers of a neural network (using the Functional or Sequential API) or import a previously built model (transfer learning).\n",
    "2. **Compile The Model:** Define all the important concepts of the network.\n",
    "    1. **Loss:** How wrong your model's predictions are compared to the truth labels (you want to minimise this).\n",
    "    2. **Optimizer:** How your model should update its internal patterns to better its predictions.\n",
    "    3. **Metrics:** Human interpretable values for how well your model is doing.\n",
    "3. **Fit The Model:** Let the model try to find patterns in the data by iterating over epochs (how many times the model will go through all of the training examples).\n",
    "4. **Evaluate The Model:** Evaluate the performance of the model based on the metrics.\n",
    "5. **Improve The Model:** Iterate over the 4 first steps by making small adjustments in order to improve the model. Most common ways to improve a deep model are: **Add layers**, **Improve the number of hidden units**, **Change the activation function**, **Change the optimization function**, **Change the learning rate**, **Fit on more data** and **Fit for longer**.\n",
    "\n",
    "Now let's go over the 5 fundamental steps."
   ]
  },
  {
   "cell_type": "code",
   "execution_count": 24,
   "id": "73c7df9d-f6e0-420d-9041-a0b183a5f1d7",
   "metadata": {},
   "outputs": [
    {
     "name": "stdout",
     "output_type": "stream",
     "text": [
      "Epoch 1/5\n",
      "34/34 [==============================] - 0s 2ms/step - loss: 13344.8398 - mae: 13344.8398 - val_loss: 12966.6074 - val_mae: 12966.6074\n",
      "Epoch 2/5\n",
      "34/34 [==============================] - 0s 710us/step - loss: 13343.8760 - mae: 13343.8760 - val_loss: 12965.6396 - val_mae: 12965.6396\n",
      "Epoch 3/5\n",
      "34/34 [==============================] - 0s 653us/step - loss: 13342.9072 - mae: 13342.9072 - val_loss: 12964.6758 - val_mae: 12964.6758\n",
      "Epoch 4/5\n",
      "34/34 [==============================] - 0s 616us/step - loss: 13341.9414 - mae: 13341.9414 - val_loss: 12963.7119 - val_mae: 12963.7119\n",
      "Epoch 5/5\n",
      "34/34 [==============================] - 0s 619us/step - loss: 13340.9736 - mae: 13340.9736 - val_loss: 12962.7441 - val_mae: 12962.7441\n"
     ]
    }
   ],
   "source": [
    "# 1. Create The Model\n",
    "model_1 = tf.keras.Sequential([\n",
    "    tf.keras.layers.Dense(1)\n",
    "])\n",
    "\n",
    "# 2. Compile The Model\n",
    "model_1.compile(loss=tf.keras.losses.mae,\n",
    "                optimizer=tf.keras.optimizers.SGD(),\n",
    "                metrics=[\"mae\"])\n",
    "\n",
    "# 3. Fit The Model\n",
    "history_1 = model_1.fit(X_train, y_train, epochs=5, validation_data=(X_test,y_test))"
   ]
  },
  {
   "cell_type": "markdown",
   "id": "3c14a19a-a3a1-415c-8c20-b6c8d0ae0eae",
   "metadata": {},
   "source": [
    "The process of step **4. Evaluate The Model** is not really automated and it contains a multiple of steps depending on the problem. Here I will introduce some very basic steps one can perform."
   ]
  },
  {
   "cell_type": "code",
   "execution_count": 25,
   "id": "4b10ae50-1e01-42b6-88c4-27b23d32fda8",
   "metadata": {},
   "outputs": [
    {
     "name": "stdout",
     "output_type": "stream",
     "text": [
      "Model: \"sequential_1\"\n",
      "_________________________________________________________________\n",
      " Layer (type)                Output Shape              Param #   \n",
      "=================================================================\n",
      " dense_1 (Dense)             (None, 1)                 12        \n",
      "                                                                 \n",
      "=================================================================\n",
      "Total params: 12\n",
      "Trainable params: 12\n",
      "Non-trainable params: 0\n",
      "_________________________________________________________________\n"
     ]
    }
   ],
   "source": [
    "# summary of the model\n",
    "model_1.summary()"
   ]
  },
  {
   "cell_type": "code",
   "execution_count": 26,
   "id": "bcd735b5-7752-4bad-8afb-ede7d013caa6",
   "metadata": {},
   "outputs": [
    {
     "data": {
      "image/png": "[encoded data removed]",
      "text/plain": [
       "<IPython.core.display.Image object>"
      ]
     },
     "execution_count": 26,
     "metadata": {},
     "output_type": "execute_result"
    }
   ],
   "source": [
    "# architecture of the model\n",
    "plot_model(model_1, show_shapes=True)"
   ]
  },
  {
   "cell_type": "code",
   "execution_count": 27,
   "id": "1b6f5fa2-8020-4580-8f6e-08559a5ef704",
   "metadata": {},
   "outputs": [],
   "source": [
    "def plot(history):\n",
    "    pd.DataFrame(history.history).plot(title=\"Metrics\", xlabel='Epoch', ylabel='Metric')\n",
    "    plt.show()"
   ]
  },
  {
   "cell_type": "code",
   "execution_count": 28,
   "id": "f4226935-3484-4283-b96d-18bbf5a2bac4",
   "metadata": {},
   "outputs": [
    {
     "data": {
      "image/png": "[encoded data removed]",
      "text/plain": [
       "<Figure size 1440x720 with 1 Axes>"
      ]
     },
     "metadata": {
      "needs_background": "light"
     },
     "output_type": "display_data"
    }
   ],
   "source": [
    "plot(history_1)"
   ]
  },
  {
   "cell_type": "markdown",
   "id": "f038213b-43f3-47f4-bec2-508b3cf2533d",
   "metadata": {},
   "source": [
    "Moving on to fifth and final step **5. Improve The Model**, we will try to make improvements to the model by making small adjustments to the model. \n",
    "\n",
    "Let's start by training the model for longer, i.e increase the number of epochs."
   ]
  },
  {
   "cell_type": "code",
   "execution_count": 29,
   "id": "25f70cb4",
   "metadata": {
    "tags": []
   },
   "outputs": [
    {
     "name": "stdout",
     "output_type": "stream",
     "text": [
      "9/9 [==============================] - 0s 344us/step - loss: 12872.2129 - mae: 12872.2129\n"
     ]
    },
    {
     "data": {
      "text/plain": [
       "[12872.212890625, 12872.212890625]"
      ]
     },
     "execution_count": 29,
     "metadata": {},
     "output_type": "execute_result"
    }
   ],
   "source": [
    "# 1. Create The Model\n",
    "model_2 = tf.keras.Sequential([\n",
    "    tf.keras.layers.Dense(1)\n",
    "])\n",
    "\n",
    "# 2. Compile The Model\n",
    "model_2.compile(loss=tf.keras.losses.mae,\n",
    "              optimizer=tf.keras.optimizers.SGD(),\n",
    "              metrics=[\"mae\"])\n",
    "\n",
    "# 3. Fit The Model\n",
    "history_2 = model_2.fit(X_train, y_train, epochs=100, verbose=0, validation_data=(X_test, y_test))\n",
    "\n",
    "# 4. Evaluate The Model\n",
    "model_2.evaluate(X_test, y_test)"
   ]
  },
  {
   "cell_type": "markdown",
   "id": "b6fe5d6b-1156-45d9-9b13-747b8e689b4f",
   "metadata": {},
   "source": [
    "Moving on to **4. Evaluate The Model** let's take a look again to the various metrics."
   ]
  },
  {
   "cell_type": "code",
   "execution_count": 30,
   "id": "c2661eb6-0ce3-471e-a465-a1251506495c",
   "metadata": {},
   "outputs": [
    {
     "data": {
      "image/png": "[encoded data removed]",
      "text/plain": [
       "<Figure size 1440x720 with 1 Axes>"
      ]
     },
     "metadata": {
      "needs_background": "light"
     },
     "output_type": "display_data"
    }
   ],
   "source": [
    "# plot model metrics\n",
    "plot(history_2)"
   ]
  },
  {
   "cell_type": "markdown",
   "id": "199313a1-de60-4a21-b1c4-df77ecabd668",
   "metadata": {},
   "source": [
    "It looks like training for longer improved the model. Now let's again move on to **5. Improve The Model** step by running another experiment in which we will add an extra layer with one hidden unit increasing the epochs to 500. "
   ]
  },
  {
   "cell_type": "code",
   "execution_count": 31,
   "id": "69c111f0-d999-40b6-b1c3-3eec37f985fe",
   "metadata": {
    "tags": []
   },
   "outputs": [
    {
     "name": "stdout",
     "output_type": "stream",
     "text": [
      "9/9 [==============================] - 0s 346us/step - loss: 3166.3899 - mae: 3166.3899\n"
     ]
    },
    {
     "data": {
      "text/plain": [
       "[3166.389892578125, 3166.389892578125]"
      ]
     },
     "execution_count": 31,
     "metadata": {},
     "output_type": "execute_result"
    }
   ],
   "source": [
    "# 1. Create The Model\n",
    "model_3 = tf.keras.Sequential([\n",
    "    tf.keras.layers.Dense(1),\n",
    "    tf.keras.layers.Dense(1)\n",
    "])\n",
    "\n",
    "# 2. Compile The Model\n",
    "model_3.compile(loss=tf.keras.losses.mae,\n",
    "              optimizer=tf.keras.optimizers.SGD(),\n",
    "              metrics=[\"mae\"])\n",
    "\n",
    "# 3. Fit The Model\n",
    "history_3 = model_3.fit(X_train, y_train, epochs=500, verbose=0, validation_data=(X_test, y_test))\n",
    "\n",
    "# 4. Evaluate The Model\n",
    "model_3.evaluate(X_test, y_test)"
   ]
  },
  {
   "cell_type": "code",
   "execution_count": 32,
   "id": "b20c2abe-a073-424a-9e48-bb9a053b56da",
   "metadata": {},
   "outputs": [
    {
     "data": {
      "image/png": "[encoded data removed]",
      "text/plain": [
       "<Figure size 1440x720 with 1 Axes>"
      ]
     },
     "metadata": {
      "needs_background": "light"
     },
     "output_type": "display_data"
    }
   ],
   "source": [
    "# plot model metrics\n",
    "plot(history_3)"
   ]
  },
  {
   "cell_type": "markdown",
   "id": "4082bf57-85ea-453d-8940-b30ef8bf644a",
   "metadata": {},
   "source": [
    "It looks like that model_3 has improved significantly over model_2, while the extra epochs in training did not hepl a lot since already after the first 100 epochs the model has a consistent loss."
   ]
  },
  {
   "cell_type": "markdown",
   "id": "2ba0ac63-3f5c-4d40-8bb2-161127219e65",
   "metadata": {},
   "source": [
    "After we have found a good model (in our case we can go with model_3), we can make predictions and save the model for future use."
   ]
  },
  {
   "cell_type": "code",
   "execution_count": null,
   "id": "c49f5c10-a9c5-40cd-be88-e333e1f1d0f8",
   "metadata": {},
   "outputs": [],
   "source": [
    "# make predictions\n",
    "y_pred = model_3.predict(X_test)"
   ]
  },
  {
   "cell_type": "code",
   "execution_count": null,
   "id": "6c524aad-8f6b-409a-86e3-d8d53fa0a778",
   "metadata": {},
   "outputs": [],
   "source": [
    "# save the mode\n",
    "model_3.save('model_3')"
   ]
  },
  {
   "cell_type": "code",
   "execution_count": null,
   "id": "3690fce3-f4b9-4b42-a9c2-1e4da38879fc",
   "metadata": {},
   "outputs": [],
   "source": [
    "# load a saved model\n",
    "model_3 = tf.keras.models.load_model(\"model_3\")"
   ]
  },
  {
   "cell_type": "markdown",
   "id": "88e9f113-a19b-42cd-b1ba-e9139e25d25e",
   "metadata": {},
   "source": [
    "## Classification"
   ]
  },
  {
   "cell_type": "markdown",
   "id": "50767036-3a35-44db-814f-6531d0b86590",
   "metadata": {},
   "source": [
    "### Binary Classification"
   ]
  },
  {
   "cell_type": "markdown",
   "id": "708f08b8-8214-4137-ab88-9d7287d04b5a",
   "metadata": {},
   "source": [
    "#### Data\n",
    "\n",
    "Let's start again by loading the data, split them up and preprocess them."
   ]
  },
  {
   "cell_type": "code",
   "execution_count": null,
   "id": "39b0771d",
   "metadata": {},
   "outputs": [],
   "source": [
    "breast_cancer_df = pd.read_csv(\"data/breast_cancer.csv\")\n",
    "breast_cancer_df.head()"
   ]
  },
  {
   "cell_type": "code",
   "execution_count": null,
   "id": "51ad84fc-a133-4f21-9a84-ee86a9202982",
   "metadata": {},
   "outputs": [],
   "source": [
    "# check out labels\n",
    "labels = breast_cancer_df.target.value_counts()\n",
    "labels"
   ]
  },
  {
   "cell_type": "code",
   "execution_count": null,
   "id": "cc87e9ac-46f3-468a-b55d-9144dce8622d",
   "metadata": {},
   "outputs": [],
   "source": [
    "# most frequent dummy classifier\n",
    "most_frequent_classifier_accuracy = labels[1]/labels.sum()\n",
    "most_frequent_classifier_accuracy"
   ]
  },
  {
   "cell_type": "code",
   "execution_count": null,
   "id": "d30998c9",
   "metadata": {},
   "outputs": [],
   "source": [
    "# features and target\n",
    "X = breast_cancer_df.drop(\"target\", axis=1)\n",
    "y = breast_cancer_df.target\n",
    "\n",
    "# split in train and test\n",
    "X_train, X_test, y_train, y_test = train_test_split(X, y, test_size=0.2, random_state=42)\n",
    "\n",
    "X_train.shape, X_test.shape, y_train.shape, y_test.shape"
   ]
  },
  {
   "cell_type": "code",
   "execution_count": null,
   "id": "1657180d",
   "metadata": {},
   "outputs": [],
   "source": [
    "#preprocessing data (for deep learning usually normalization)\n",
    "column_transformer = make_column_transformer(\n",
    "    (MinMaxScaler(), breast_cancer_df.drop(\"target\", axis=1).columns)\n",
    ")\n",
    "\n",
    "# fit the X_train data\n",
    "column_transformer.fit(X_train)\n",
    "\n",
    "# transform both X_train and X_test\n",
    "X_train = column_transformer.transform(X_train)\n",
    "X_test = column_transformer.transform(X_test)\n",
    "\n",
    "X_train.shape, X_test.shape, y_train.shape, y_test.shape"
   ]
  },
  {
   "cell_type": "markdown",
   "id": "ba4342ea-25fa-4fd1-8e9c-b8e6bfd32e10",
   "metadata": {},
   "source": [
    "#### Models\n",
    "\n",
    "Now let's go over the 5 fundamental steps once again."
   ]
  },
  {
   "cell_type": "code",
   "execution_count": null,
   "id": "9c355eaf",
   "metadata": {},
   "outputs": [],
   "source": [
    "# 1. Create The Model\n",
    "model_4 = tf.keras.Sequential([\n",
    "    tf.keras.layers.Dense(1, activation=\"sigmoid\")\n",
    "])\n",
    "\n",
    "# 2. Compile The Model\n",
    "model_4.compile(loss=tf.keras.losses.BinaryCrossentropy(),\n",
    "                optimizer=tf.keras.optimizers.SGD(),\n",
    "                metrics=[\"accuracy\"])\n",
    "\n",
    "# 3. Fit The Model\n",
    "history_4 = model_4.fit(X_train, y_train, epochs=100, verbose=0, validation_data=(X_test, y_test))\n",
    "\n",
    "# 4. Evaluate The Model\n",
    "model_4.evaluate(X_test, y_test)"
   ]
  },
  {
   "cell_type": "code",
   "execution_count": null,
   "id": "88220c23",
   "metadata": {},
   "outputs": [],
   "source": [
    "# summary of the model\n",
    "model_4.summary()"
   ]
  },
  {
   "cell_type": "code",
   "execution_count": null,
   "id": "69ba8071",
   "metadata": {},
   "outputs": [],
   "source": [
    "# architecture of the model\n",
    "plot_model(model_4, show_shapes=True)"
   ]
  },
  {
   "cell_type": "code",
   "execution_count": null,
   "id": "eb57d763",
   "metadata": {},
   "outputs": [],
   "source": [
    "plot(history_4)"
   ]
  },
  {
   "cell_type": "markdown",
   "id": "7e59e82d-a694-4939-b135-151d4f5dbf75",
   "metadata": {},
   "source": [
    "Moving on to fifth and final step **5. Improve The Model**, we will try to make improvements to the model by making small adjustments to the model. "
   ]
  },
  {
   "cell_type": "code",
   "execution_count": null,
   "id": "8e633933",
   "metadata": {
    "tags": []
   },
   "outputs": [],
   "source": [
    "# 1. Create The Model\n",
    "model_5 = tf.keras.Sequential([\n",
    "    tf.keras.layers.Dense(10),\n",
    "    tf.keras.layers.Dense(1, activation=\"sigmoid\")\n",
    "])\n",
    "\n",
    "# 2. Compile The Model\n",
    "model_5.compile(loss=tf.keras.losses.BinaryCrossentropy(),\n",
    "              optimizer=tf.keras.optimizers.Adam(),\n",
    "              metrics=[\"accuracy\"])\n",
    "\n",
    "# 3. Fit The Model\n",
    "history_5 = model_5.fit(X_train, y_train, epochs=500, verbose=0, validation_data=(X_test, y_test))\n",
    "\n",
    "# 4. Evaluate The Model\n",
    "model_5.evaluate(X_test, y_test)"
   ]
  },
  {
   "cell_type": "code",
   "execution_count": null,
   "id": "4fc2b66c-49db-464b-a61d-8154212cf8db",
   "metadata": {},
   "outputs": [],
   "source": [
    "plot(history_5)"
   ]
  },
  {
   "cell_type": "code",
   "execution_count": null,
   "id": "e0e7aff4",
   "metadata": {
    "tags": []
   },
   "outputs": [],
   "source": [
    "# 1. Create The Model\n",
    "model_6 = tf.keras.Sequential([\n",
    "    tf.keras.layers.Dense(10),\n",
    "    tf.keras.layers.Dense(1, activation=\"sigmoid\")\n",
    "])\n",
    "\n",
    "# 2. Compile The Model\n",
    "model_6.compile(loss=tf.keras.losses.BinaryCrossentropy(),\n",
    "              optimizer=tf.keras.optimizers.Adam(learning_rate=0.01),\n",
    "              metrics=[\"accuracy\"])\n",
    "\n",
    "# 3. Fit The Model\n",
    "history_6 = model_6.fit(X_train, y_train, epochs=500, verbose=0, validation_data=(X_test, y_test))\n",
    "\n",
    "# 4. Evaluate The Model\n",
    "model_6.evaluate(X_test, y_test)"
   ]
  },
  {
   "cell_type": "code",
   "execution_count": null,
   "id": "8de1f0fc-be57-42e3-9c14-af959197ff23",
   "metadata": {},
   "outputs": [],
   "source": [
    "plot(history_6)"
   ]
  },
  {
   "cell_type": "markdown",
   "id": "5774247a-2276-458e-845c-2874a58aefc5",
   "metadata": {},
   "source": [
    "Looks like model_5 is the winner."
   ]
  },
  {
   "cell_type": "code",
   "execution_count": null,
   "id": "14996820-d434-4f41-8d32-50838a211c8c",
   "metadata": {},
   "outputs": [],
   "source": [
    "# confusion matrix for model_5\n",
    "y_pred = model_5.predict(X_test, verbose=0)\n",
    "classification_evaluation(y_test, y_pred)"
   ]
  },
  {
   "cell_type": "markdown",
   "id": "81992086-18ae-44b3-9a1e-be03f97962b5",
   "metadata": {},
   "source": [
    "### Multiclass Classification"
   ]
  },
  {
   "cell_type": "markdown",
   "id": "b3fb469e-c620-4417-8c0b-a119d1ae61a4",
   "metadata": {},
   "source": [
    "#### Data"
   ]
  },
  {
   "cell_type": "code",
   "execution_count": null,
   "id": "8d1a7216-909a-4bb3-bba9-1beeec01e431",
   "metadata": {},
   "outputs": [],
   "source": [
    "# data has already been sorted into training and test sets\n",
    "(X_train, y_train), (X_test, y_test) = fashion_mnist.load_data()\n",
    "\n",
    "X_train.shape, y_train.shape, X_test.shape, y_test.shape"
   ]
  },
  {
   "cell_type": "code",
   "execution_count": null,
   "id": "68e22a39-5360-4187-9edf-ab69ff31f158",
   "metadata": {},
   "outputs": [],
   "source": [
    "# plot a single random example\n",
    "class_names = ['T-shirt/top', 'Trouser', 'Pullover', 'Dress', 'Coat', \n",
    "               'Sandal', 'Shirt', 'Sneaker', 'Bag', 'Ankle boot']\n",
    "\n",
    "random_integer = random.randint(0, X_train.shape[0])\n",
    "\n",
    "plt.imshow(X_train[random_integer], cmap=plt.cm.binary)\n",
    "plt.title(class_names[y_train[random_integer]])\n",
    "plt.show()"
   ]
  },
  {
   "cell_type": "code",
   "execution_count": null,
   "id": "8549d536-87d5-4d47-a0e3-05b203b8f63d",
   "metadata": {},
   "outputs": [],
   "source": [
    "# data min and max\n",
    "X_train.min(), X_train.max()"
   ]
  },
  {
   "cell_type": "code",
   "execution_count": null,
   "id": "50459fd5-e279-4d55-a284-bfadd3ef40db",
   "metadata": {},
   "outputs": [],
   "source": [
    "# normalization\n",
    "X_train = X_train/X_train.max()\n",
    "X_test = X_test/X_test.max()"
   ]
  },
  {
   "cell_type": "markdown",
   "id": "210c0487-b240-403a-ad9b-f14cb2a1e842",
   "metadata": {},
   "source": [
    "#### Models"
   ]
  },
  {
   "cell_type": "code",
   "execution_count": null,
   "id": "bca66fe8-6e7d-4090-b970-fc6a31a8744e",
   "metadata": {},
   "outputs": [],
   "source": [
    "# create the model\n",
    "model_7 = tf.keras.Sequential([\n",
    "  tf.keras.layers.Flatten(input_shape=(28, 28)), # input layer (we had to reshape 28x28 to 784, the Flatten layer does this for us)\n",
    "  tf.keras.layers.Dense(4, activation=\"relu\"),\n",
    "  tf.keras.layers.Dense(4, activation=\"relu\"),\n",
    "  tf.keras.layers.Dense(10, activation=\"softmax\") # output shape is 10, activation is softmax\n",
    "])\n",
    "\n",
    "# compile the model\n",
    "model_7.compile(loss=tf.keras.losses.SparseCategoricalCrossentropy(),\n",
    "                optimizer=tf.keras.optimizers.Adam(),\n",
    "                metrics=[\"accuracy\"])\n",
    "\n",
    "# fit the model\n",
    "history_7 = model_7.fit(X_train, y_train, epochs=10, validation_data=(X_test, y_test))\n",
    "\n",
    "# evaluate the model\n",
    "model_7.evaluate(X_test, y_test)"
   ]
  },
  {
   "cell_type": "code",
   "execution_count": null,
   "id": "0be1113d-6da7-49a4-8c86-a8bece742c9a",
   "metadata": {},
   "outputs": [],
   "source": [
    "plot(history_7)"
   ]
  },
  {
   "cell_type": "markdown",
   "id": "8e75af75-fb66-4cf4-bd0d-e4f45d4298c2",
   "metadata": {},
   "source": [
    "Finding the best learning rate.\n",
    "\n",
    "To find the ideal learning rate (i.e the learning rate where the loss decreases the most during training) we are going to use the learning rate callback.\n",
    "\n",
    "Callbacks are functions or blocks of code which are executed during a specific instant while training a Deep Learning Model.\n",
    "\n",
    "\n"
   ]
  },
  {
   "cell_type": "code",
   "execution_count": null,
   "id": "1f7b27da-614d-4c18-accf-23518ef240ad",
   "metadata": {},
   "outputs": [],
   "source": [
    "# create the model\n",
    "model_8 = tf.keras.Sequential([\n",
    "  tf.keras.layers.Flatten(input_shape=(28, 28)), # input layer (we had to reshape 28x28 to 784, the Flatten layer does this for us)\n",
    "  tf.keras.layers.Dense(4, activation=\"relu\"),\n",
    "  tf.keras.layers.Dense(4, activation=\"relu\"),\n",
    "  tf.keras.layers.Dense(10, activation=\"softmax\") # output shape is 10, activation is softmax\n",
    "])\n",
    "\n",
    "# compile the model\n",
    "model_8.compile(loss=tf.keras.losses.SparseCategoricalCrossentropy(),\n",
    "                optimizer=tf.keras.optimizers.Adam(),\n",
    "                metrics=[\"accuracy\"])\n",
    "\n",
    "# create a leraning rate callback\n",
    "lr_callback = tf.keras.callbacks.LearningRateScheduler(lambda epoch: 1e-4 * 10**(epoch/20))\n",
    "\n",
    "# fit the model\n",
    "history_8 = model_8.fit(X_train, y_train, epochs=100, verbose=0, validation_data=(X_test, y_test), callbacks=[lr_callback])\n",
    "\n",
    "# evaluate the model\n",
    "model_8.evaluate(X_test, y_test)"
   ]
  },
  {
   "cell_type": "code",
   "execution_count": null,
   "id": "7f44e978-cf63-4950-b5d7-9a994475839d",
   "metadata": {},
   "outputs": [],
   "source": [
    "plot(history_8)"
   ]
  },
  {
   "cell_type": "code",
   "execution_count": null,
   "id": "50a322c6-6a55-49e7-b65c-2b371556e04e",
   "metadata": {},
   "outputs": [],
   "source": [
    "history_8_df = pd.DataFrame(history_8.history)\n",
    "plt.semilogx(history_8_df.lr, history_8_df.loss)\n",
    "plt.show()"
   ]
  },
  {
   "cell_type": "code",
   "execution_count": null,
   "id": "2988f7a7-81db-4379-81b8-5c3f65a30a31",
   "metadata": {},
   "outputs": [],
   "source": []
  },
  {
   "cell_type": "code",
   "execution_count": null,
   "id": "7d7f42a4-e0aa-46a2-b7cd-c734ede8ed22",
   "metadata": {},
   "outputs": [],
   "source": []
  },
  {
   "cell_type": "code",
   "execution_count": null,
   "id": "451f4b01-ad5b-4bce-aef9-26658bcd7c96",
   "metadata": {},
   "outputs": [],
   "source": []
  },
  {
   "cell_type": "code",
   "execution_count": null,
   "id": "b43c8091-7bf6-402c-af9e-af94122bfaa5",
   "metadata": {},
   "outputs": [],
   "source": []
  },
  {
   "cell_type": "code",
   "execution_count": null,
   "id": "d2086210-0994-4e4f-acdd-395475319fd5",
   "metadata": {},
   "outputs": [],
   "source": [
    "import itertools\n",
    "import numpy as np\n",
    "import matplotlib.pyplot as plt\n",
    "import tensorflow as tf\n",
    "from sklearn.metrics import confusion_matrix, accuracy_score, precision_score, recall_score, f1_score \n",
    "\n",
    "\n",
    "def classification_evaluation(y_test, y_pred):\n",
    "    \n",
    "    y_test, y_pred = tf.round(y_test), tf.round(y_pred)\n",
    "\n",
    "    # create the confusion matrix\n",
    "    cm = confusion_matrix(y_test, y_pred)\n",
    "\n",
    "    # normalize confusion matrix\n",
    "    cm_norm = cm.astype(\"float\") / cm.sum(axis=1)[:, np.newaxis] \n",
    "    n_classes = cm.shape[0]\n",
    "\n",
    "    # prettify confusion matrix\n",
    "    fig, ax = plt.subplots(figsize=(10,10))\n",
    "\n",
    "    cax = ax.matshow(cm, cmap=plt.cm.Blues)\n",
    "    fig.colorbar(cax)\n",
    "\n",
    "    labels = np.arange(cm.shape[0])\n",
    "\n",
    "    ax.set(title=\"Confusion Matrix\",\n",
    "           xlabel=\"Predicted Label\",\n",
    "           ylabel=\"True Label\",\n",
    "           xticks=np.arange(n_classes),\n",
    "           yticks=np.arange(n_classes),\n",
    "           xticklabels=labels,\n",
    "           yticklabels=labels)\n",
    "\n",
    "    ax.xaxis.set_label_position(\"bottom\")\n",
    "    ax.xaxis.tick_bottom()\n",
    "    ax.xaxis.label.set_size(20)\n",
    "    ax.yaxis.label.set_size(20)\n",
    "    ax.title.set_size(20)\n",
    "\n",
    "    threshold = (cm.max() + cm.min()) / 2.\n",
    "\n",
    "    for i, j in itertools.product(range(cm.shape[0]), range(cm.shape[1])):\n",
    "        plt.text(j, i, f\"{cm[i, j]} ({cm_norm[i, j]*100:.1f}%)\",\n",
    "                 horizontalalignment=\"center\",\n",
    "                 color=\"white\" if cm[i, j] > threshold else \"black\",\n",
    "                 size=15)\n",
    "    \n",
    "    plt.show()\n",
    "    \n",
    "    accuracy = round(accuracy_score(y_test, y_pred),3)\n",
    "    print(\"Accuracy = \", accuracy)\n",
    "    \n",
    "    precision = round(precision_score(y_test, y_pred),3)\n",
    "    print(\"Precision = \", precision)\n",
    "    \n",
    "    recall = round(recall_score(y_test, y_pred),3)\n",
    "    print(\"Recall = \", recall)\n",
    "    \n",
    "    f_1_score = round(f1_score(y_test, y_pred),3)\n",
    "    print(\"F1 Score = \", f_1_score)\n",
    "\n"
   ]
  }
 ],
 "metadata": {
  "kernelspec": {
   "display_name": "Python 3 (ipykernel)",
   "language": "python",
   "name": "python3"
  },
  "language_info": {
   "codemirror_mode": {
    "name": "ipython",
    "version": 3
   },
   "file_extension": ".py",
   "mimetype": "text/x-python",
   "name": "python",
   "nbconvert_exporter": "python",
   "pygments_lexer": "ipython3",
   "version": "3.10.4"
  },
  "toc-autonumbering": false
 },
 "nbformat": 4,
 "nbformat_minor": 5
}
